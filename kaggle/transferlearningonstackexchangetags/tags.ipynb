{
 "cells": [
  {
   "cell_type": "code",
   "execution_count": 92,
   "metadata": {
    "collapsed": false,
    "deletable": true,
    "editable": true
   },
   "outputs": [],
   "source": [
    "import functools as ft\n",
    "import numpy as np\n",
    "import pandas as pd\n",
    "import matplotlib.pyplot as plt\n",
    "import seaborn as sns\n",
    "import tflearn as tflearn\n",
    "\n",
    "from sklearn.feature_extraction.text import CountVectorizer\n",
    "from sklearn.feature_extraction.text import TfidfVectorizer\n",
    "from sklearn.model_selection import train_test_split\n",
    "\n",
    "from wordcloud import WordCloud\n",
    "from bs4 import BeautifulSoup"
   ]
  },
  {
   "cell_type": "code",
   "execution_count": 68,
   "metadata": {
    "collapsed": false,
    "deletable": true,
    "editable": true
   },
   "outputs": [
    {
     "name": "stdout",
     "output_type": "stream",
     "text": [
      "<class 'pandas.core.frame.DataFrame'>\n",
      "Int64Index: 87000 entries, 0 to 19278\n",
      "Data columns (total 4 columns):\n",
      "id         87000 non-null int64\n",
      "title      87000 non-null object\n",
      "content    87000 non-null object\n",
      "tags       87000 non-null object\n",
      "dtypes: int64(1), object(3)\n",
      "memory usage: 3.3+ MB\n"
     ]
    }
   ],
   "source": [
    "biology_data = pd.read_csv(\"data/biology.csv\")\n",
    "cooking_data = pd.read_csv(\"data/cooking.csv\")\n",
    "crypto_data = pd.read_csv(\"data/crypto.csv\")\n",
    "diy_data = pd.read_csv(\"data/diy.csv\")\n",
    "robotics_data = pd.read_csv(\"data/robotics.csv\")\n",
    "travel_data = pd.read_csv(\"data/travel.csv\")\n",
    "test_data = pd.read_csv(\"data/test.csv\")\n",
    "\n",
    "data = biology_data\n",
    "data = data.append(cooking_data)\n",
    "data = data.append(crypto_data)\n",
    "data = data.append(diy_data)\n",
    "data = data.append(robotics_data)\n",
    "data = data.append(travel_data)\n",
    "# data = data.append(test_data)\n",
    "\n",
    "data.info()"
   ]
  },
  {
   "cell_type": "markdown",
   "metadata": {
    "deletable": true,
    "editable": true
   },
   "source": [
    "## Helpers"
   ]
  },
  {
   "cell_type": "code",
   "execution_count": 26,
   "metadata": {
    "collapsed": false
   },
   "outputs": [],
   "source": [
    "def log(l, t):\n",
    "    print('')\n",
    "    print('==> ' + str(l) + ': ' + str(t))"
   ]
  },
  {
   "cell_type": "markdown",
   "metadata": {
    "deletable": true,
    "editable": true
   },
   "source": [
    "## Data preprocessing\n",
    "* cleanup html tags\n",
    "* lower case\n",
    "* stop words\n",
    "* fix spelling errors\n",
    "* remove short words (1 and 2 chars)\n",
    "* tokenize compound words (e.g. cell-biology becomes cell and biology)\n",
    "\n",
    "* stemming aka find the root of words (plurals, tenses, etc)"
   ]
  },
  {
   "cell_type": "code",
   "execution_count": 79,
   "metadata": {
    "collapsed": false
   },
   "outputs": [
    {
     "data": {
      "text/html": [
       "<div>\n",
       "<table border=\"1\" class=\"dataframe\">\n",
       "  <thead>\n",
       "    <tr style=\"text-align: right;\">\n",
       "      <th></th>\n",
       "      <th>id</th>\n",
       "      <th>title</th>\n",
       "      <th>content</th>\n",
       "      <th>tags</th>\n",
       "      <th>tag</th>\n",
       "    </tr>\n",
       "  </thead>\n",
       "  <tbody>\n",
       "    <tr>\n",
       "      <th>0</th>\n",
       "      <td>1</td>\n",
       "      <td>What is the criticality of the ribosome bindin...</td>\n",
       "      <td>&lt;p&gt;In prokaryotic translation, how critical fo...</td>\n",
       "      <td>ribosome binding-sites translation synthetic-b...</td>\n",
       "      <td>ribosome</td>\n",
       "    </tr>\n",
       "    <tr>\n",
       "      <th>1</th>\n",
       "      <td>2</td>\n",
       "      <td>How is RNAse contamination in RNA based experi...</td>\n",
       "      <td>&lt;p&gt;Does anyone have any suggestions to prevent...</td>\n",
       "      <td>rna biochemistry</td>\n",
       "      <td>rna</td>\n",
       "    </tr>\n",
       "    <tr>\n",
       "      <th>2</th>\n",
       "      <td>3</td>\n",
       "      <td>Are lymphocyte sizes clustered in two groups?</td>\n",
       "      <td>&lt;p&gt;Tortora writes in &lt;em&gt;Principles of Anatomy...</td>\n",
       "      <td>immunology cell-biology hematology</td>\n",
       "      <td>immunology</td>\n",
       "    </tr>\n",
       "    <tr>\n",
       "      <th>3</th>\n",
       "      <td>4</td>\n",
       "      <td>How long does antibiotic-dosed LB maintain goo...</td>\n",
       "      <td>&lt;p&gt;Various people in our lab will prepare a li...</td>\n",
       "      <td>cell-culture</td>\n",
       "      <td>cell</td>\n",
       "    </tr>\n",
       "    <tr>\n",
       "      <th>4</th>\n",
       "      <td>5</td>\n",
       "      <td>Is exon order always preserved in splicing?</td>\n",
       "      <td>&lt;p&gt;Are there any cases in which the splicing m...</td>\n",
       "      <td>splicing mrna spliceosome introns exons</td>\n",
       "      <td>splicing</td>\n",
       "    </tr>\n",
       "  </tbody>\n",
       "</table>\n",
       "</div>"
      ],
      "text/plain": [
       "   id                                              title  \\\n",
       "0   1  What is the criticality of the ribosome bindin...   \n",
       "1   2  How is RNAse contamination in RNA based experi...   \n",
       "2   3      Are lymphocyte sizes clustered in two groups?   \n",
       "3   4  How long does antibiotic-dosed LB maintain goo...   \n",
       "4   5        Is exon order always preserved in splicing?   \n",
       "\n",
       "                                             content  \\\n",
       "0  <p>In prokaryotic translation, how critical fo...   \n",
       "1  <p>Does anyone have any suggestions to prevent...   \n",
       "2  <p>Tortora writes in <em>Principles of Anatomy...   \n",
       "3  <p>Various people in our lab will prepare a li...   \n",
       "4  <p>Are there any cases in which the splicing m...   \n",
       "\n",
       "                                                tags         tag  \n",
       "0  ribosome binding-sites translation synthetic-b...    ribosome  \n",
       "1                                   rna biochemistry         rna  \n",
       "2                 immunology cell-biology hematology  immunology  \n",
       "3                                       cell-culture        cell  \n",
       "4            splicing mrna spliceosome introns exons    splicing  "
      ]
     },
     "execution_count": 79,
     "metadata": {},
     "output_type": "execute_result"
    }
   ],
   "source": [
    "# del data['content']\n",
    "data['tag'] = data.tags.map(lambda t: t.split()[0].split('-')[0])\n",
    "\n",
    "data.head()"
   ]
  },
  {
   "cell_type": "code",
   "execution_count": 7,
   "metadata": {
    "collapsed": false,
    "deletable": true,
    "editable": true
   },
   "outputs": [
    {
     "data": {
      "image/png": "[encoded data removed]",
      "text/plain": [
       "<matplotlib.figure.Figure at 0x10ae88f98>"
      ]
     },
     "metadata": {},
     "output_type": "display_data"
    }
   ],
   "source": [
    "ax = sns.jointplot(data.title_words_count, data.tags_words_count, size=10)\n",
    "plt.show()"
   ]
  },
  {
   "cell_type": "code",
   "execution_count": 98,
   "metadata": {
    "collapsed": false,
    "deletable": true,
    "editable": true
   },
   "outputs": [
    {
     "name": "stdout",
     "output_type": "stream",
     "text": [
      "\n",
      "==> X shape: (87000, 4463)\n",
      "\n",
      "==> X features: ['00', '000', '1000', '1024', '11', '110', '110v', '120', '12v', '13', '140', '150', '160', '17', '19', '1st', '200', '2012', '2013', '2014', '2015', '2016', '2048', '20a', '20amp', '21', '22', '220', '220v', '23', '230', '240', '24v', '25', '26', '28', '2d', '2x4', '2x4s', '2x6', '300', '31', '32', '35', '36', '3g', '3rd', '400', '45', '48', '4g', '4x4', '500', '509', '60hz', '64', '6x6', '70', '72', '75', '80', '94', '96', 'aa', 'ab', 'ababa', 'abandoned', 'ability', 'abiogenesis', 'abs', 'absence', 'absolute', 'absolutely', 'absorb', 'absorbed', 'absorbing', 'absorption', 'abu', 'academic', 'acceleration', 'accept', 'accepted', 'accessibility', 'accessible', 'accident', 'accidentally', 'accomodation', 'according', 'accounts', 'accumulator', 'accumulators', 'accuracy', 'accurate', 'accurately', 'acidic', 'acoustic', 'acquired', 'acrylic', 'act', 'activate', 'activated', 'activation', 'adapt', 'adapters', 'adaptive', 'adaptor', 'addis', 'additive', 'additives', 'address', 'adequate', 'adhere', 'adjacent', 'adjustable', 'adjusting', 'adjustment', 'adult', 'adults', 'advanced', 'adversarial', 'adversary', 'advisable', 'aead', 'aerator', 'aerial', 'aerobic', 'aeroflot', 'aes256', 'affected', 'affecting', 'affects', 'affine', 'affinity', 'affordable', 'afternoon', 'aftertaste', 'agar', 'aged', 'agencies', 'agency', 'aging', 'ago', 'agreement', 'agriculture', 'ahead', 'aid', 'aids', 'aires', 'airfare', 'airflow', 'airplanes', 'airside', 'aka', 'al', 'alarms', 'albania', 'albanian', 'alcoholic', 'alfredo', 'algae', 'algebraic', 'algonquin', 'alice', 'alive', 'alleles', 'allergic', 'allergies', 'alliance', 'allowance', 'allowing', 'allows', 'almond', 'alpha', 'alphabet', 'alps', 'alter', 'altering', 'alternate', 'altitude', 'altruism', 'aluminium', 'amazon', 'amounts', 'amperage', 'ampere', 'amplification', 'amps', 'amusement', 'anaerobic', 'analog', 'ancestor', 'anchors', 'ancient', 'android', 'angles', 'angular', 'ankara', 'annotation', 'anonymity', 'anonymous', 'answer', 'antarctica', 'antenna', 'anthropology', 'anti', 'antibiotic', 'antibodies', 'antigen', 'antigens', 'antipredator', 'antique', 'anybody', 'anymore', 'api', 'apoptosis', 'app', 'apparent', 'appeal', 'appear', 'appearance', 'appliance', 'applicable', 'applied', 'appointment', 'approach', 'approaches', 'approval', 'approved', 'approximate', 'apps', 'april', 'aquarium', 'aquatic', 'arachnology', 'arbitrary', 'arc', 'archaea', 'arctic', 'ardupilot', 'arizona', 'armenia', 'arms', 'arrangement', 'array', 'arrivals', 'arrive', 'art', 'artichokes', 'asexual', 'ask', 'asking', 'asn', 'asparagus', 'assay', 'assistance', 'associated', 'association', 'assume', 'assuming', 'assumption', 'assumptions', 'astrobiology', 'ataturk', 'athens', 'atlanta', 'atlantic', 'atm', 'attaching', 'attachment', 'attacker', 'attacking', 'attempt', 'attend', 'attracted', 'attraction', 'attractions', 'attribute', 'au', 'auckland', 'audio', 'audit', 'august', 'auh', 'auroras', 'austrian', 'authentic', 'authenticate', 'authenticating', 'authenticity', 'authorities', 'authority', 'auto', 'autoimmune', 'automated', 'automatic', 'automatically', 'autonomic', 'autonomous', 'availability', 'avalanche', 'aviv', 'avocado', 'avocados', 'avoidance', 'avoided', 'avoiding', 'avr', 'aware', 'awareness', 'awg', 'axis', 'axon', 'axons', 'azerbaijan', 'ba', 'babies', 'backdoor', 'backdoors', 'backer', 'background', 'backing', 'backpack', 'backpacks', 'backup', 'backwards', 'backyard', 'bagels', 'bahamas', 'bahn', 'baker', 'bakery', 'baku', 'balance', 'balancing', 'balcony', 'bali', 'balkan', 'balkans', 'ball', 'ballast', 'balls', 'baltic', 'baltimore', 'bamboo', 'ban', 'banana', 'band', 'bands', 'bandsaw', 'bandwidth', 'bangalore', 'banging', 'bangladesh', 'bangladeshi', 'banks', 'banned', 'bare', 'barley', 'barn', 'barrel', 'bars', 'base64', 'baseboards', 'basel', 'bases', 'basil', 'basin', 'basis', 'basket', 'batch', 'bathrooms', 'bator', 'bats', 'batteries', 'batts', 'batumi', 'bavaria', 'bc', 'beach', 'bead', 'beagle', 'beaglebone', 'beams', 'bean', 'bear', 'bears', 'beat', 'bechamel', 'beds', 'bee', 'bees', 'beet', 'beetle', 'beets', 'begin', 'beginner', 'beginning', 'behavior', 'beings', 'belarus', 'belgian', 'belgrade', 'belize', 'bell', 'belly', 'belt', 'bench', 'bend', 'beneath', 'beneficial', 'benefit', 'bent', 'bergen', 'beta', 'beverage', 'beverages', 'bhutan', 'bicycle', 'bigger', 'bike', 'bikes', 'bilinear', 'bills', 'bin', 'binary', 'bind', 'bio', 'biochemical', 'biodiversity', 'bioluminescence', 'biomass', 'biomedical', 'biometric', 'biopython', 'biostatistics', 'biosynthesis', 'bird', 'birth', 'biscuit', 'biscuits', 'bite', 'bitterness', 'bkk', 'blades', 'blanching', 'bland', 'blank', 'bleach', 'bleed', 'blend', 'blinding', 'blinking', 'blockage', 'blocked', 'blocking', 'blocksize', 'blooded', 'bloodstream', 'blot', 'blow', 'blowing', 'blown', 'blows', 'blowtorch', 'blueberries', 'blueberry', 'bluetooth', 'blum', 'bob', 'bodies', 'boeing', 'bolognese', 'bom', 'bond', 'bonds', 'books', 'boolean', 'booster', 'born', 'bosch', 'bosnia', 'bottle', 'bottles', 'botulism', 'bouillon', 'bound', 'brace', 'bracing', 'bracket', 'braising', 'branches', 'brands', 'brass', 'bratislava', 'brazilian', 'breadcrumbs', 'breading', 'breads', 'breasts', 'breath', 'breathe', 'breeding', 'brew', 'brewed', 'brewing', 'bricks', 'bridge', 'brie', 'bright', 'brined', 'brisbane', 'brisket', 'brittle', 'broadcast', 'broccoli', 'broiler', 'broke', 'brought', 'brownie', 'browning', 'bru', 'bruges', 'brulee', 'brush', 'bubble', 'bubbles', 'bubbling', 'bucharest', 'buckwheat', 'buenos', 'buffalo', 'buffer', 'bug', 'bugs', 'buildings', 'buildup', 'bulgarian', 'bulk', 'bullet', 'bump', 'bundt', 'buns', 'burger', 'burgers', 'buried', 'burned', 'burners', 'burnt', 'bury', 'busy', 'butcher', 'butchering', 'butt', 'butterflies', 'buttermilk', 'butters', 'button', 'buttons', 'buzzing', 'bypass', 'byte', 'bytes', 'ca', 'cabbage', 'cabin', 'cabinetry', 'caesar', 'cafe', 'cafes', 'cairns', 'cairo', 'calcium', 'calculated', 'calculation', 'calculations', 'caledonia', 'calibrate', 'calling', 'calorie', 'calories', 'cambridge', 'came', 'camellia', 'camp', 'camper', 'campers', 'canary', 'cancel', 'cancellation', 'cancelled', 'cancun', 'cannes', 'cans', 'canyon', 'capabilities', 'capable', 'capacitor', 'capacity', 'cape', 'capsule', 'caramelization', 'carb', 'carbohydrates', 'carbonara', 'carbonated', 'carbonation', 'cardboard', 'cardiac', 'care', 'cargo', 'carnet', 'carnival', 'carolina', 'carport', 'carried', 'carrier', 'carriers', 'carrot', 'cars', 'carter', 'cartridge', 'cas9', 'casablanca', 'cases', 'casing', 'casserole', 'castle', 'castles', 'cat', 'catch', 'category', 'catering', 'caterpillar', 'cathay', 'cats', 'caucasus', 'caught', 'cauliflower', 'caves', 'cavity', 'cayman', 'cca', 'ccm', 'cdna', 'cedar', 'ceilings', 'celery', 'cellar', 'cellphone', 'cellulose', 'celsius', 'centre', 'certificateless', 'ceviche', 'cfb', 'chacha', 'chacha20', 'chai', 'chaining', 'chains', 'chainsaw', 'chair', 'chamber', 'chance', 'chances', 'chandelier', 'channels', 'character', 'characteristics', 'characters', 'charcoal', 'charcuterie', 'charged', 'charger', 'charging', 'charles', 'charter', 'cheaply', 'checkin', 'checks', 'checksum', 'cheddar', 'cheeses', 'chef', 'chefs', 'chemicals', 'chennai', 'cherries', 'cherry', 'chest', 'chestnuts', 'chewy', 'chi', 'chia', 'chiang', 'chickens', 'chickpeas', 'chilean', 'chill', 'chilli', 'chilling', 'chloride', 'chlorine', 'chloroplasts', 'choice', 'cholesterol', 'chop', 'chopped', 'chopping', 'chops', 'chorizo', 'chromatin', 'chromatography', 'chrome', 'chronic', 'chuck', 'chunks', 'church', 'chutney', 'cider', 'cigarette', 'cilantro', 'cinder', 'cinderblock', 'ciphertexts', 'circle', 'circulatory', 'circumstances', 'cistern', 'citric', 'claim', 'clam', 'clamp', 'clarification', 'clarified', 'classic', 'classified', 'classify', 'clay', 'cleaned', 'cleaner', 'cleanout', 'clearing', 'click', 'clicking', 'climb', 'climbing', 'clinical', 'clips', 'clock', 'clogged', 'clogging', 'clone', 'closer', 'closest', 'closing', 'cloth', 'clotted', 'cloud', 'cloudy', 'cloves', 'club', 'clumping', 'cmac', 'cms', 'cnc', 'cns', 'co2', 'coa', 'coach', 'coast', 'coated', 'coats', 'coax', 'coaxial', 'cob', 'cockroaches', 'cocktail', 'cod', 'coding', 'codon', 'codons', 'coefficient', 'cognition', 'coil', 'coils', 'coin', 'coincidence', 'coins', 'colder', 'collapse', 'collect', 'collecting', 'collection', 'collective', 'cologne', 'colombian', 'colonies', 'colony', 'colorado', 'colored', 'coloring', 'colors', 'colour', 'columbia', 'column', 'columns', 'com', 'combi', 'combinations', 'combine', 'combined', 'combining', 'combo', 'comfortable', 'command', 'commands', 'commitment', 'commitments', 'commonly', 'communicate', 'community', 'commutative', 'compact', 'companions', 'comparable', 'comparative', 'comparing', 'comparisons', 'compass', 'compatibility', 'compatible', 'compensate', 'competition', 'complement', 'complete', 'compliant', 'complicated', 'component', 'components', 'composite', 'compounds', 'comprehensive', 'compressed', 'compromise', 'compromised', 'computed', 'computers', 'computing', 'concentrate', 'concentrations', 'concept', 'concern', 'concerned', 'concerns', 'condensate', 'condensed', 'condenser', 'condiments', 'condition', 'condo', 'conduction', 'conductor', 'conductors', 'conference', 'conferences', 'confidentiality', 'configuration', 'confirm', 'confirmation', 'confirmed', 'confit', 'confused', 'connector', 'connectors', 'connects', 'consecutive', 'consequences', 'conservation', 'conserved', 'considerations', 'considering', 'consistent', 'constantly', 'constants', 'constraints', 'construct', 'constructed', 'constructing', 'consulates', 'consume', 'consumed', 'consumer', 'consumption', 'containers', 'containing', 'contains', 'contamination', 'contents', 'context', 'continental', 'continually', 'continue', 'continuous', 'continuously', 'contract', 'contraction', 'contractor', 'contribute', 'controllers', 'controls', 'convenience', 'convenient', 'convention', 'conventional', 'convergent', 'converted', 'converter', 'cookbook', 'cookers', 'cooks', 'cooktop', 'cooled', 'cooler', 'coordinate', 'coordinates', 'cordless', 'core', 'coriander', 'cork', 'corned', 'corners', 'cornstarch', 'correctness', 'correlation', 'corresponding', 'corrosion', 'corrugated', 'costs', 'cottage', 'couchsurfing', 'count', 'counting', 'counts', 'couple', 'coupling', 'course', 'coverage', 'covers', 'cow', 'co₂', 'cp', 'cph', 'cpu', 'cpvc', 'crab', 'cracker', 'crackers', 'craftsman', 'cramer', 'cranberries', 'cranial', 'crawl', 'crc', 'creamy', 'create2', 'created', 'creature', 'crepe', 'crepes', 'crew', 'crime', 'crimea', 'crimp', 'crisp', 'crispr', 'criteria', 'critical', 'crock', 'crocodiles', 'crossover', 'crown', 'crt', 'crumb', 'crumble', 'crumbling', 'crumbly', 'crumbs', 'crunchy', 'crushed', 'cryptographically', 'cryptosystems', 'crystal', 'crystallography', 'crème', 'csprng', 'ct', 'cube', 'cubes', 'cucumbers', 'cultured', 'cultures', 'cumin', 'cupboard', 'cupcake', 'cups', 'curd', 'curdling', 'cure', 'cured', 'curing', 'currencies', 'currently', 'curtains', 'curve25519', 'curved', 'cuts', 'cutter', 'cycles', 'cyclic', 'cycling', 'cylinder', 'cyprus', 'cytogenetics', 'cytometry', 'cytoskeleton', 'daily', 'damaging', 'damgaard', 'damgård', 'danger', 'dangers', 'danish', 'darker', 'darwin', 'databases', 'dataset', 'datasets', 'dates', 'datv', 'daughter', 'db', 'deadbolt', 'dealing', 'deals', 'debit', 'decay', 'december', 'decent', 'deception', 'decide', 'decision', 'declare', 'decoding', 'decomposition', 'decorating', 'decorative', 'decrease', 'decrypted', 'decrypting', 'dedicated', 'default', 'defense', 'deficiency', 'define', 'defined', 'defining', 'defrost', 'degradation', 'degrade', 'degrees', 'dehumidifier', 'dehydration', 'del', 'delay', 'delayed', 'delicious', 'delivered', 'delivery', 'demand', 'deniable', 'denial', 'denied', 'dense', 'density', 'denver', 'depart', 'departing', 'depend', 'dependent', 'depending', 'deportation', 'deported', 'deposit', 'deposits', 'depression', 'derive', 'derived', 'deriving', 'described', 'describing', 'description', 'desert', 'deserts', 'designed', 'designing', 'desired', 'desktop', 'despite', 'desserts', 'destroy', 'detached', 'detailed', 'detected', 'detecting', 'detection', 'detector', 'detergent', 'determination', 'determined', 'determines', 'detroit', 'deutsche', 'develop', 'developed', 'developing', 'developmental', 'dewalt', 'dhabi', 'di', 'diabetes', 'diagnose', 'diagram', 'diagrams', 'diameter', 'dice', 'dictionary', 'diego', 'dietary', 'differ', 'differentiate', 'differentiation', 'differently', 'difficulty', 'diffuser', 'diffusion', 'dig', 'digest', 'digging', 'digit', 'digits', 'dim', 'dimension', 'dimensional', 'dimensions', 'dimmable', 'dimmers', 'dimorphism', 'dining', 'dinner', 'dinosaur', 'dinosaurs', 'dioxide', 'dip', 'dipping', 'directional', 'directions', 'dirt', 'dirty', 'disable', 'disabled', 'disadvantages', 'disasters', 'disc', 'discharge', 'disconnect', 'disconnected', 'discount', 'discounts', 'discover', 'discovered', 'discovery', 'discrimination', 'diseases', 'disk', 'disney', 'disneyland', 'disorder', 'disorders', 'dispenser', 'display', 'disposable', 'dispose', 'disputed', 'disputes', 'dissolve', 'distinct', 'distinguish', 'distinguisher', 'distinguishing', 'distribute', 'distributed', 'district', 'diversity', 'diverter', 'divide', 'dlp', 'documentation', 'dof', 'doha', 'dollar', 'dollars', 'domain', 'dome', 'domestically', 'dominance', 'dominant', 'dominican', 'doorknob', 'doorway', 'dopamine', 'dormer', 'dose', 'dots', 'doubling', 'doubt', 'doughnuts', 'dowel', 'download', 'downspout', 'downstairs', 'downstream', 'downtown', 'dpa', 'draft', 'draining', 'draw', 'drawbacks', 'drawer', 'drawers', 'drbg', 'dream', 'dreaming', 'dremel', 'dress', 'drift', 'drilled', 'drilling', 'drip', 'dripping', 'drips', 'driven', 'drivers', 'drone', 'dropped', 'dropping', 'drops', 'drug', 'ds', 'dtw', 'du', 'dub', 'dubrovnik', 'ducting', 'ductless', 'ductwork', 'dumplings', 'duplex', 'duplicate', 'durable', 'dusseldorf', 'dust', 'dye', 'dynamic', 'dynamixel', 'düsseldorf', 'earlier', 'earliest', 'earn', 'ears', 'earthquake', 'easier', 'easter', 'easyjet', 'eaten', 'eaves', 'eax', 'ebola', 'ec', 'ecdh', 'ecg', 'ecies', 'eco', 'economical', 'economy', 'ecosystem', 'ecotourism', 'edges', 'edging', 'edi', 'edinburgh', 'education', 'eea', 'eeg', 'effectively', 'effectiveness', 'effector', 'efficacy', 'efficiently', 'egress', 'egyptian', 'eindhoven', 'el', 'elbow', 'electrician', 'electrocardiography', 'electroencephalography', 'electron', 'electrons', 'elegans', 'elements', 'elevated', 'eligible', 'eliminate', 'elisa', 'email', 'embassies', 'embryo', 'embryonic', 'emergencies', 'employed', 'employer', 'employment', 'emt', 'emulsion', 'en', 'enamel', 'enameled', 'enclosed', 'enclosure', 'encode', 'encoded', 'encoder', 'encryptions', 'ended', 'ending', 'ends', 'engineer', 'enhance', 'enigma', 'enjoy', 'entered', 'entertainment', 'entire', 'entirely', 'entrance', 'entries', 'environmental', 'ephemeral', 'epidemiology', 'epigenetic', 'equally', 'equations', 'equilibrium', 'equivalence', 'errors', 'especially', 'essential', 'estimate', 'estimating', 'estimation', 'estonia', 'et', 'eta', 'ethanol', 'ethical', 'ethiopia', 'ethnobiology', 'etihad', 'euclidean', 'eukaryotes', 'euler', 'eurail', 'euro', 'euros', 'evaluate', 'evaluation', 'evaporated', 'evaporative', 'evaporator', 'eve', 'evening', 'evenly', 'eventually', 'everest', 'evolved', 'ex', 'exact', 'exam', 'excess', 'excessive', 'exchanging', 'excretion', 'excursions', 'exercise', 'exhibit', 'existence', 'exists', 'exiting', 'exon', 'exons', 'expand', 'expanding', 'expectancy', 'expected', 'expedia', 'experiments', 'expiration', 'expire', 'expiring', 'expiry', 'explore', 'exponentiation', 'exponents', 'export', 'exposure', 'express', 'expressed', 'extending', 'extent', 'extinct', 'extinction', 'extinguisher', 'extracellular', 'extracted', 'extracting', 'extraction', 'extractor', 'extracts', 'extremely', 'extremophiles', 'fabric', 'face', 'faced', 'facilities', 'facility', 'facing', 'fact', 'factoring', 'fail', 'failed', 'failing', 'fails', 'failure', 'fair', 'fake', 'fall', 'fallen', 'false', 'famous', 'faroe', 'fascia', 'fasten', 'fastening', 'father', 'fatty', 'faucets', 'fault', 'faulty', 'fco', 'fear', 'feasibility', 'feature', 'february', 'fed', 'feedback', 'feeder', 'feeding', 'feeling', 'feline', 'fell', 'felt', 'females', 'fennel', 'fenugreek', 'ferment', 'fermented', 'fermenting', 'fertilization', 'festivals', 'fetus', 'fever', 'fhe', 'fi', 'fiat', 'fiber', 'fibers', 'fields', 'fight', 'fiji', 'filled', 'filler', 'fillet', 'fills', 'film', 'filtered', 'filtering', 'filters', 'filtration', 'final', 'financial', 'finger', 'fingerprint', 'fingerprints', 'fingers', 'finnish', 'fips', 'firearms', 'fireproof', 'firewood', 'firing', 'firm', 'fishing', 'fitness', 'fits', 'fitted', 'fittings', 'fixation', 'fjords', 'flag', 'flakes', 'flaking', 'flaky', 'flambe', 'flame', 'flan', 'flash', 'flask', 'flatbread', 'flatten', 'flavored', 'flavorful', 'flavors', 'flaw', 'flesh', 'flex', 'flicker', 'flickering', 'flies', 'flip', 'float', 'flood', 'floorboards', 'flora', 'florence', 'flower', 'flowering', 'flowing', 'flue', 'fluffy', 'fluid', 'flushed', 'flushes', 'flushing', 'flyer', 'focaccia', 'focus', 'fold', 'follow', 'followed', 'follower', 'fondant', 'fondue', 'foot', 'football', 'footing', 'footwear', 'forced', 'forcing', 'foreigner', 'foreigners', 'forest', 'forever', 'forgery', 'forgot', 'formal', 'formaldehyde', 'formation', 'formed', 'forming', 'forms', 'formula', 'fortuna', 'fpe', 'fra', 'fragile', 'fragments', 'fraiche', 'framed', 'frameless', 'frames', 'fraud', 'freedom', 'freely', 'freestanding', 'freighter', 'frequencies', 'frequent', 'frequently', 'freshly', 'freshness', 'friction', 'friend', 'friendly', 'friends', 'frost', 'fryer', 'ft', 'fuel', 'fumes', 'fundamental', 'fungi', 'fungus', 'fur', 'gable', 'gadgets', 'gain', 'galapagos', 'gallon', 'galois', 'galvanized', 'gamal', 'games', 'ganache', 'gang', 'gaps', 'garbled', 'gardening', 'gardens', 'gare', 'gasoline', 'gastroenterology', 'gates', 'gatwick', 'gaulle', 'gazebo', 'gds', 'ge', 'gearing', 'geek', 'gelatine', 'gelling', 'gels', 'gen', 'gender', 'generally', 'generations', 'generators', 'generic', 'genetically', 'geneva', 'genomic', 'genotype', 'genotyping', 'geography', 'geometry', 'georgian', 'germ', 'germination', 'gf', 'gfi', 'ghana', 'ghanaian', 'ghee', 'giant', 'gibraltar', 'gift', 'gifts', 'gingerbread', 'girlfriend', 'gives', 'giving', 'gland', 'glasgow', 'glasses', 'glaze', 'glazed', 'globe', 'gloves', 'glow', 'glued', 'gluing', 'gnocchi', 'goa', 'goat', 'gold', 'golden', 'gone', 'goodman', 'goods', 'google', 'goose', 'government', 'gpg', 'grace', 'gradient', 'grading', 'graham', 'grain', 'grains', 'grainy', 'gram', 'grams', 'granola', 'granted', 'grape', 'grapes', 'graph', 'gras', 'grate', 'grating', 'gravity', 'gray', 'grease', 'greater', 'greenland', 'greens', 'grey', 'grid', 'griddle', 'grilled', 'grind', 'grocery', 'groove', 'grooves', 'grounded', 'grounds', 'groups', 'growing', 'grown', 'gsm', 'guangzhou', 'guarantee', 'guard', 'guatemala', 'guess', 'guest', 'guests', 'guidebooks', 'guided', 'guidelines', 'gum', 'gumbo', 'gun', 'gut', 'gutter', 'gwas', 'gypsum', 'gyro', 'h1b', 'habitat', 'haggling', 'hall', 'hamburg', 'hamburger', 'hamilton', 'hamming', 'handed', 'handler', 'handles', 'handling', 'handrail', 'hands', 'handshake', 'haneda', 'hanoi', 'happened', 'happening', 'harder', 'hardness', 'hardwired', 'hardy', 'hare', 'harm', 'harmful', 'hashed', 'hasn', 'hatch', 'havana', 'hawaii', 'hd', 'hdmi', 'header', 'heading', 'heads', 'healing', 'healthy', 'hear', 'hearth', 'heated', 'heaters', 'held', 'helix', 'helsinki', 'hemoglobin', 'herb', 'herbal', 'herpetology', 'hex', 'hhn', 'hi', 'hide', 'hiding', 'highest', 'highly', 'highway', 'hike', 'himalayas', 'hinge', 'hire', 'hiring', 'hissing', 'histamine', 'histology', 'histone', 'historical', 'hit', 'hitting', 'hkdf', 'hkg', 'hnd', 'ho', 'hob', 'hokkaido', 'holders', 'holds', 'hollandaise', 'hollow', 'homeostasis', 'homes', 'homestay', 'homocysteine', 'homologous', 'homology', 'honeycomb', 'honeywell', 'hooked', 'hooking', 'hooks', 'horizontally', 'hormone', 'hormones', 'horse', 'hoses', 'hostel', 'hostelworld', 'hotp', 'household', 'houses', 'housing', 'houston', 'hr', 'hrs', 'https', 'huge', 'hum', 'humanoid', 'humid', 'humming', 'hummus', 'hung', 'hungarian', 'hunting', 'hurricane', 'hurt', 'husband', 'hybrid', 'hybridization', 'hydration', 'hydrogen', 'hydronic', 'hypersensitivity', 'hypothesis', 'hz', 'i2c', 'iad', 'iberia', 'ic', 'iced', 'icn', 'ideas', 'identical', 'ids', 'ignite', 'iguazu', 'ii', 'ikea', 'illegal', 'illumina', 'images', 'imaging', 'immediately', 'immersion', 'immunity', 'immunoglobin', 'implementations', 'implemented', 'implementing', 'implications', 'imply', 'importance', 'importing', 'impossible', 'improvement', 'improving', 'inbreeding', 'incandescent', 'incheon', 'inches', 'included', 'including', 'inclusive', 'income', 'incomplete', 'incorporate', 'incorrect', 'incorrectly', 'increased', 'increases', 'increasing', 'ind', 'independent', 'independently', 'index', 'indicate', 'indicator', 'indigenous', 'indirect', 'indistinguishability', 'indistinguishable', 'individual', 'individually', 'individuals', 'indonesian', 'indoor', 'indoors', 'induce', 'induced', 'inexpensive', 'infant', 'infected', 'infections', 'infinite', 'inflammation', 'influence', 'influenza', 'info', 'infrared', 'infuse', 'infused', 'infusion', 'inheritance', 'inhibit', 'inhibition', 'inhibitor', 'initial', 'injury', 'inlet', 'inline', 'inner', 'inputs', 'ins', 'insecure', 'insert', 'insertion', 'instant', 'instructions', 'insulated', 'insulating', 'insulin', 'intake', 'integer', 'integers', 'integrate', 'integrated', 'integration', 'intelligent', 'intended', 'intensity', 'inter', 'interactions', 'interactive', 'interchangeable', 'intercity', 'interesting', 'interface', 'interference', 'intermediate', 'intermittent', 'intermittently', 'internationally', 'interpret', 'interpretation', 'interrail', 'interrupts', 'intersection', 'interval', 'interview', 'intra', 'intracellular', 'introduced', 'introduction', 'introductory', 'introns', 'invasive', 'inversion', 'invert', 'invertebrates', 'inverted', 'inverter', 'involving', 'ion', 'ions', 'ipad', 'iphone', 'ipsec', 'ir', 'iraq', 'iraqi', 'irctc', 'iris', 'irish', 'irregular', 'ish', 'islam', 'isoforms', 'isolate', 'isolated', 'israeli', 'issuing', 'ist', 'ita', 'item', 'iterated', 'iterations', 'ivs', 'jack', 'jakarta', 'jalapeno', 'jamaica', 'jamb', 'jammed', 'jams', 'janeiro', 'january', 'jar', 'jars', 'javascript', 'jaw', 'jeju', 'jello', 'jerky', 'jersey', 'jerusalem', 'jet', 'jetlag', 'jewish', 'johannesburg', 'john', 'join', 'joinery', 'joining', 'jordan', 'jordanian', 'jose', 'journal', 'journeys', 'jr', 'judge', 'juices', 'juicing', 'juicy', 'july', 'jump', 'june', 'jungle', 'kale', 'kaliningrad', 'kashmir', 'kathmandu', 'kazakhstan', 'kdf', 'kebab', 'keccak', 'kefir', 'kenmore', 'kenya', 'kenyan', 'kept', 'kerala', 'kerdi', 'kernels', 'ketchup', 'kettle', 'keyboard', 'keyed', 'keyspace', 'kick', 'kids', 'kiev', 'kilimanjaro', 'killed', 'killing', 'kimchi', 'kinds', 'kinematic', 'king', 'kingdom', 'kit', 'kitchenaid', 'kits', 'klm', 'km', 'knapsack', 'knead', 'kneading', 'knee', 'knobs', 'knock', 'knows', 'ko', 'kosovo', 'krakow', 'kuala', 'kuka', 'kul', 'kurdistan', 'kuwait', 'kyoto', 'kyrgyzstan', 'kyushu', 'label', 'labeled', 'laboratory', 'lack', 'lactic', 'lactose', 'ladder', 'lag', 'laid', 'lakes', 'lambda', 'lamport', 'lamps', 'lan', 'landing', 'landscape', 'lankan', 'laptops', 'lard', 'largest', 'laser', 'latch', 'latency', 'lateral', 'latex', 'latin', 'latte', 'latvia', 'law', 'lawnmower', 'laws', 'lax', 'layers', 'laying', 'layout', 'lb', 'lbs', 'lcd', 'leading', 'leads', 'leakage', 'lean', 'leather', 'leavening', 'lebanese', 'ledger', 'leds', 'leftover', 'legally', 'legged', 'legit', 'legumes', 'leh', 'leipzig', 'lemonade', 'lemons', 'lengths', 'lennox', 'lens', 'lethal', 'letters', 'letting', 'lettuce', 'lever', 'leviton', 'lg', 'lga', 'lgw', 'lh', 'libraries', 'libsodium', 'licence', 'lidar', 'lids', 'liechtenstein', 'lifespan', 'lift', 'lifting', 'ligand', 'ligation', 'lighter', 'lightweight', 'likelihood', 'lille', 'lima', 'limbs', 'limitations', 'limited', 'limiting', 'limits', 'liner', 'link', 'linkage', 'linked', 'linoleum', 'linux', 'lip', 'lipid', 'lipids', 'lipo', 'liqueur', 'liquids', 'liquor', 'lisbon', 'listed', 'listing', 'lists', 'lit', 'lite', 'literature', 'lithium', 'lithuania', 'lives', 'ljubljana', 'll', 'loaded', 'loading', 'loads', 'loaf', 'lobster', 'located', 'locating', 'loci', 'locker', 'lockers', 'locking', 'locks', 'loft', 'logic', 'login', 'logs', 'loire', 'lombok', 'longest', 'longevity', 'looks', 'loop', 'loops', 'loosen', 'losing', 'lot', 'lots', 'loud', 'lounge', 'lounges', 'louvre', 'lowering', 'lowest', 'lp', 'ltn', 'lubricate', 'lubrication', 'luby', 'lumpur', 'lunch', 'lung', 'lungs', 'luton', 'luxembourg', 'luxury', 'lwe', 'lymphatic', 'lyon', 'ma', 'maastricht', 'macarons', 'macau', 'macedonia', 'machines', 'machu', 'macroevolution', 'macs', 'mad', 'madagascar', 'madrid', 'magic', 'magnetic', 'magnetometer', 'mai', 'mailbox', 'maillard', 'mainland', 'mains', 'maintain', 'maintaining', 'major', 'malaria', 'malaysian', 'males', 'malicious', 'malleability', 'malt', 'malta', 'mammal', 'mammalian', 'manage', 'management', 'manchester', 'mandatory', 'mango', 'manhattan', 'manifold', 'manila', 'manipulator', 'manner', 'manual', 'manually', 'manufactured', 'manufacturer', 'manufacturing', 'maple', 'march', 'margarine', 'marinara', 'marinate', 'marinated', 'marinating', 'mark', 'marker', 'markers', 'market', 'markets', 'marks', 'marrakech', 'marriage', 'marriages', 'married', 'marrow', 'mars', 'marshmallow', 'marshmallows', 'masa', 'masala', 'mascarpone', 'mash', 'mashed', 'mask', 'massachusetts', 'massive', 'mastercard', 'matching', 'mate', 'math', 'mathbb', 'mating', 'matrices', 'mature', 'maui', 'mauritius', 'mavlink', 'max', 'maximize', 'maybe', 'maytag', 'mceliece', 'meal', 'meals', 'means', 'meant', 'measured', 'measures', 'meatballs', 'meatloaf', 'meats', 'mechanical', 'mechanics', 'mechanisms', 'media', 'mediated', 'medication', 'medicinal', 'medicines', 'mediterranean', 'meeting', 'meets', 'mega', 'melanin', 'melatonin', 'melbourne', 'mellitus', 'melon', 'melt', 'melted', 'member', 'members', 'membership', 'membranes', 'men', 'menstrual', 'mental', 'mention', 'menu', 'merge', 'mesh', 'mess', 'metabolic', 'metallic', 'meters', 'methylation', 'metric', 'metro', 'meyer', 'mhc', 'miami', 'michigan', 'micro', 'microarray', 'microbiome', 'microrna', 'microscope', 'mid', 'midi', 'midnight', 'migration', 'milan', 'mild', 'mildew', 'mileage', 'military', 'milling', 'mimic', 'min', 'mince', 'minced', 'mind', 'mindstorms', 'mineral', 'minerals', 'minh', 'mini', 'minimal', 'minimize', 'mint', 'minute', 'mirna', 'miss', 'mistake', 'mistakes', 'miter', 'mitigate', 'mitm', 'mitochondrial', 'mixcolumns', 'mixed', 'mixes', 'mixture', 'ml', 'mm', 'mnl', 'mod', 'modeling', 'modelling', 'modification', 'modifications', 'modified', 'modify', 'modifying', 'module', 'moduli', 'modulo', 'moen', 'moist', 'moka', 'molasses', 'moldy', 'molecule', 'molecules', 'moment', 'monaco', 'mongolian', 'monitor', 'monoxide', 'montenegro', 'montgomery', 'moon', 'moroccan', 'morphology', 'mortise', 'mosaic', 'mosquito', 'mosquitoes', 'moss', 'moth', 'mother', 'motifs', 'motorbike', 'motorcycle', 'mould', 'moulding', 'mouse', 'mousse', 'mouth', 'moved', 'moves', 'mozzarella', 'mpc', 'msg', 'muc', 'mud', 'mudding', 'muffin', 'mug', 'multicellular', 'multimeter', 'multiplicative', 'multiply', 'muscat', 'museum', 'mushroom', 'mushy', 'music', 'muslim', 'mussels', 'mustard', 'mutton', 'mutual', 'myanmar', 'mysterious', 'mystery', 'myth', 'na', 'nacl', 'nadh', 'nairobi', 'naked', 'narita', 'narrow', 'nationals', 'native', 'naturally', 'ncbi', 'neanderthal', 'neapolitan', 'nearby', 'necessarily', 'needham', 'needing', 'negligible', 'neighbor', 'nema', 'nepali', 'nerve', 'nerves', 'net', 'neural', 'neurodegerative', 'neuron', 'neuronal', 'neuroplasticity', 'neutrals', 'newark', 'nexus', 'niagara', 'nicaragua', 'nicaraguan', 'nice', 'nicotine', 'nigeria', 'nigerian', 'nights', 'nipples', 'nitrogen', 'nm', 'node', 'nodes', 'noises', 'noisy', 'nonstick', 'noodle', 'normally', 'norwegian', 'norx', 'nose', 'nostalgia', 'notch', 'notice', 'november', 'np', 'nrt', 'nsa', 'nuclear', 'nucleic', 'nucleotide', 'nucleotides', 'nucleus', 'nudism', 'numeric', 'nuremberg', 'nutella', 'nutrients', 'nutritional', 'nxt', 'ny', 'nylon', 'nz', 'oaep', 'oak', 'oatmeal', 'oats', 'obfuscation', 'object', 'objects', 'obstacle', 'obstacles', 'obtained', 'obtaining', 'obvious', 'ocb', 'occasionally', 'occupancy', 'ocean', 'oceania', 'october', 'octopus', 'odd', 'odor', 'odors', 'odour', 'ofb', 'offal', 'offers', 'officer', 'offices', 'official', 'officials', 'offline', 'offroad', 'offset', 'offspring', 'ofii', 'oils', 'oily', 'okinawa', 'okra', 'oktoberfest', 'older', 'olfaction', 'olives', 'olympics', 'oman', 'omelette', 'onboard', 'oneworld', 'ontario', 'oogenesis', 'opaque', 'opencv', 'openni', 'openpgp', 'operate', 'operated', 'operating', 'operations', 'operator', 'operon', 'opioid', 'opposed', 'opposite', 'optical', 'optimization', 'ord', 'ordering', 'ordinary', 'oregano', 'oregon', 'organ', 'organelles', 'organization', 'organize', 'organized', 'orientation', 'orlando', 'orleans', 'osaka', 'osb', 'oscillating', 'oslo', 'osmoregulation', 'osmosis', 'otp', 'otr', 'ottawa', 'outage', 'outbound', 'outdoors', 'outer', 'outputs', 'ovens', 'overall', 'overflowing', 'overhang', 'overhead', 'overheating', 'overlap', 'overlapping', 'overseas', 'overstay', 'overstayed', 'owner', 'oxford', 'oxidation', 'pack', 'package', 'packaged', 'packaging', 'packed', 'packet', 'packets', 'packing', 'padded', 'pads', 'paella', 'pages', 'paid', 'paired', 'pairs', 'palaeontology', 'palestine', 'palm', 'pancake', 'pane', 'paneer', 'paneling', 'pantry', 'papers', 'paprika', 'par', 'parachutes', 'paraguay', 'parameter', 'parasites', 'parasitism', 'parchment', 'parent', 'parents', 'parmesan', 'parquet', 'parsley', 'partially', 'particles', 'parties', 'partition', 'partner', 'passage', 'passed', 'passengers', 'passes', 'passing', 'passive', 'passphrase', 'past', 'pasteurization', 'pasteurized', 'patagonia', 'pate', 'pathogen', 'pathogenesis', 'pathogens', 'pathophysiology', 'paths', 'pathways', 'patient', 'patients', 'patterns', 'patties', 'paulo', 'paver', 'pavlova', 'paying', 'paz', 'pc', 'peaches', 'peak', 'pearson', 'peas', 'pectin', 'pedestal', 'pedigree', 'peeled', 'peer', 'pen', 'pendant', 'penh', 'pennsylvania', 'peoples', 'peptide', 'perceive', 'percent', 'percentage', 'perfectly', 'performed', 'performing', 'pergola', 'perimeter', 'periodically', 'periods', 'peripheral', 'permanently', 'permesso', 'permission', 'permits', 'permitted', 'permutations', 'personal', 'persons', 'perspective', 'peruvian', 'pestle', 'pesto', 'pet', 'petersburg', 'petrol', 'phage', 'pharmacodynamics', 'pharmacokinetics', 'phases', 'phenology', 'phenotype', 'phenotypes', 'phi', 'philadelphia', 'philippine', 'philosophy', 'phnom', 'phoenix', 'phones', 'phosphate', 'phosphorylation', 'photos', 'phuket', 'phylogenetic', 'physically', 'physiological', 'pic', 'picchu', 'picking', 'pickle', 'pickled', 'pickles', 'picture', 'pictures', 'pier', 'pies', 'pig', 'pigmentation', 'pilgrimages', 'pineapple', 'pink', 'pins', 'piping', 'pir', 'pit', 'pita', 'pitch', 'pitched', 'pittsburgh', 'pkcs', 'pkcs1', 'pkcs11', 'placed', 'placement', 'placing', 'plaintexts', 'planes', 'planet', 'plank', 'planks', 'planner', 'plasma', 'plasterboard', 'plastering', 'plates', 'platform', 'plating', 'plausible', 'playfair', 'plot', 'plugged', 'plugging', 'plugs', 'plumb', 'plumber', 'plums', 'plus', 'pneumatic', 'poaching', 'pocket', 'pohlig', 'poison', 'poisonous', 'poker', 'polar', 'polarity', 'polenta', 'police', 'policy', 'polish', 'pollard', 'pollen', 'poly', 'poly1305', 'polymer', 'polynomials', 'polyploidy', 'pond', 'poor', 'poorly', 'pop', 'popping', 'popular', 'populations', 'porcelain', 'porous', 'portion', 'portland', 'porto', 'ports', 'portuguese', 'pose', 'positioning', 'positions', 'positive', 'possibility', 'possibly', 'potassium', 'potentially', 'potentials', 'pots', 'poultry', 'pound', 'pounds', 'pour', 'poured', 'pouring', 'powdered', 'powered', 'powerful', 'powering', 'practically', 'practices', 'prawns', 'precautions', 'precheck', 'precipitation', 'precise', 'precision', 'predation', 'predator', 'predators', 'predicate', 'predict', 'predictable', 'predicting', 'prediction', 'prefer', 'preferred', 'prefix', 'pregnancy', 'pregnant', 'premium', 'prep', 'prepared', 'preparedness', 'prescription', 'presence', 'presentation', 'preservative', 'preservatives', 'preserved', 'preserves', 'pressed', 'pretzels', 'preventing', 'prevention', 'prevents', 'prey', 'prf', 'prg', 'priced', 'pricing', 'primary', 'primates', 'primers', 'priming', 'primitive', 'primitives', 'principle', 'principles', 'print', 'printed', 'printer', 'printing', 'prion', 'prior', 'pro', 'probabilistic', 'probe', 'procedure', 'procedures', 'processed', 'processes', 'processor', 'produced', 'produces', 'producing', 'production', 'professional', 'profile', 'programmable', 'prohibited', 'projector', 'projects', 'prokaryotes', 'prokaryotic', 'prolonged', 'promote', 'promoter', 'prong', 'proportion', 'protected', 'protecting', 'protective', 'protector', 'protocols', 'provenance', 'provided', 'provider', 'provides', 'providing', 'proving', 'proxy', 'prp', 'psi', 'psk', 'pss', 'psychoneuropharmacology', 'publicly', 'publishing', 'puerto', 'pulled', 'pulling', 'pulse', 'pulses', 'pumps', 'purchased', 'purchasing', 'pure', 'puree', 'purification', 'purple', 'purposes', 'push', 'pushed', 'putty', 'pwm', 'pyrenees', 'pyrex', 'qantas', 'quad', 'quadcopters', 'quadratic', 'quadrature', 'quadrotor', 'qualities', 'quantify', 'quantitative', 'quantities', 'quantity', 'quartz', 'quebec', 'queen', 'queensland', 'queries', 'query', 'queue', 'quiche', 'quickbread', 'quickest', 'quiet', 'quinoa', 'quite', 'rabbit', 'rabies', 'race', 'rack', 'rackoff', 'radiators', 'radio', 'radius', 'rafter', 'rafters', 'rails', 'railway', 'rainbow', 'rains', 'raise', 'raised', 'raising', 'rajasthan', 'ram', 'ramadan', 'ramen', 'randomized', 'randomly', 'rangefinder', 'rapid', 'rare', 'raspberries', 'rated', 'rating', 'ratings', 'ratios', 'rats', 'ravioli', 'razor', 'rc', 'rcservo', 'reaching', 'react', 'reactions', 'reading', 'readings', 'reads', 'ready', 'reagents', 'realistic', 'reap', 'reapply', 'reapplying', 'reasonable', 'reasonably', 'reattach', 'rebar', 'receipt', 'receive', 'received', 'receiver', 'receiving', 'recent', 'recently', 'receptors', 'recessive', 'recharge', 'recheck', 'reckoning', 'reclaimed', 'recognition', 'recognize', 'recombinant', 'recommend', 'reconnect', 'reconstruction', 'record', 'records', 'recover', 'recovering', 'recovery', 'recreate', 'rectangular', 'recycling', 'reduced', 'reducing', 'reenter', 'refer', 'references', 'refill', 'refinish', 'reflex', 'reflexes', 'refreeze', 'refreezing', 'refresh', 'refrigerant', 'refrigerate', 'refrigerating', 'refrigeration', 'refugee', 'refugees', 'refundable', 'refuse', 'regardless', 'regenerate', 'regeneration', 'region', 'regional', 'regions', 'register', 'registered', 'registers', 'registration', 'regularly', 'regulate', 'regulated', 'regulator', 'regulatory', 'reheat', 'reheated', 'reinforce', 'reinforcement', 'rejected', 'rejection', 'relate', 'relative', 'relatively', 'relay', 'released', 'relevant', 'reliability', 'reliably', 'relief', 'relocate', 'relocating', 'rely', 'remain', 'remaining', 'remedy', 'remodel', 'remotely', 'removable', 'renal', 'render', 'renew', 'renewal', 'renewed', 'renewing', 'rented', 'repaint', 'repaired', 'repairs', 'repeat', 'repeated', 'repeatedly', 'repeating', 'replay', 'replicate', 'report', 'represent', 'representation', 'reproduce', 'reptile', 'repudiation', 'requests', 'requires', 'requiring', 'rescue', 'reservations', 'reserve', 'residential', 'residents', 'residual', 'residuosity', 'resist', 'resolution', 'resolve', 'resort', 'resorts', 'respect', 'respond', 'responsible', 'resting', 'restore', 'restricted', 'resulting', 'retain', 'retina', 'retrieve', 'retrofit', 'retrovirus', 'returns', 'reusable', 'reused', 'reusing', 'reveal', 'revealing', 'reversed', 'reversible', 'reversing', 'review', 'reward', 'rewiring', 'reykjavik', 'rfc', 'rgb', 'rh', 'rho', 'rhubarb', 'rhythms', 'rib', 'ribosome', 'ribosomes', 'rich', 'rico', 'ricotta', 'ridge', 'riding', 'riga', 'rights', 'rigid', 'rim', 'rind', 'rings', 'rinse', 'rio', 'rip', 'ripemd', 'ripen', 'ripped', 'risers', 'risks', 'river', 'riverboats', 'rivers', 'rng', 'roads', 'roaming', 'roasted', 'robotc', 'robust', 'rocker', 'rocks', 'rodents', 'rods', 'roles', 'roll', 'rolled', 'roller', 'rolling', 'rolls', 'romanian', 'romex', 'roots', 'rope', 'rose', 'rot', 'rotary', 'rotate', 'rotating', 'rotor', 'rotten', 'rotterdam', 'rotting', 'roughly', 'rounds', 'roundtrip', 'router', 'routers', 'routing', 'rover', 'row', 'royal', 'rpm', 'rrna', 'rub', 'rubbery', 'rude', 'ruin', 'ruined', 'ruining', 'ruins', 'rum', 'runny', 'rural', 'rusted', 'rusting', 'rusty', 'rv', 'rvs', 'rye', 'ryokans', 'sa', 'saddle', 'safari', 'safer', 'safest', 'saffron', 'sagging', 'said', 'sailing', 'saint', 'salami', 'salar', 'saliva', 'salmonella', 'salsa', 'salted', 'salting', 'salts', 'salty', 'salvage', 'salzburg', 'sample', 'samples', 'sampling', 'samsung', 'sander', 'santa', 'santiago', 'sap', 'sas', 'sash', 'sashimi', 'sat', 'saturated', 'sauces', 'sauerkraut', 'sauna', 'sausage', 'saute', 'save', 'saved', 'saving', 'savory', 'says', 'scalar', 'scales', 'scallops', 'scams', 'scan', 'scandinavia', 'scanner', 'scanning', 'scenario', 'scenic', 'scheduled', 'schiphol', 'school', 'schroeder', 'scientific', 'scientists', 'scones', 'scooter', 'scottish', 'scrambled', 'scraping', 'scratch', 'scratched', 'scratches', 'screening', 'screens', 'screwdriver', 'screwed', 'scuba', 'sds', 'se', 'sealant', 'sealer', 'seam', 'seams', 'sear', 'searchable', 'searching', 'searing', 'secondary', 'seconds', 'secrets', 'section', 'sections', 'secured', 'securely', 'securing', 'sediment', 'seeing', 'seeking', 'seen', 'seeping', 'seitan', 'select', 'selected', 'selecting', 'selective', 'sell', 'semantic', 'semi', 'sending', 'senses', 'sensible', 'sensing', 'sensitive', 'sensitivity', 'sensory', 'sent', 'separated', 'separately', 'separating', 'separation', 'seperate', 'september', 'seq', 'serbia', 'series', 'serotonin', 'serpent', 'served', 'servoing', 'servomotor', 'sesame', 'session', 'sets', 'settings', 'setup', 'severe', 'sewage', 'sfo', 'sha3', 'sha512', 'shade', 'shaft', 'shake', 'shaking', 'shallow', 'shannon', 'shaped', 'shapes', 'shares', 'sharp', 'sharpen', 'sharpening', 'shave', 'sheathing', 'sheetrock', 'sheets', 'shell', 'shellac', 'shellfish', 'shells', 'shelves', 'shield', 'shift', 'shine', 'shinkansen', 'shiny', 'ship', 'ships', 'shock', 'shoe', 'shoes', 'shop', 'shops', 'shore', 'shortcuts', 'shorten', 'shortening', 'shorter', 'shortest', 'shot', 'shoulder', 'shouldn', 'shoup', 'showers', 'showing', 'shows', 'shredded', 'shrink', 'shub', 'shutoff', 'shuts', 'shutters', 'shutting', 'shuttle', 'siberia', 'siberian', 'sicily', 'sick', 'sickness', 'sided', 'sides', 'sidewalk', 'siem', 'sieve', 'sifting', 'sight', 'sights', 'signalling', 'signals', 'signed', 'significance', 'significant', 'significantly', 'signs', 'silicon', 'silk', 'silver', 'similarity', 'simmer', 'simmering', 'simon', 'simplest', 'simply', 'simulate', 'simulating', 'simultaneously', 'sin', 'sinkhole', 'sinking', 'sinks', 'siphash', 'siphon', 'sirloin', 'sister', 'sit', 'sitting', 'situation', 'siv', 'sized', 'sizing', 'skein', 'ski', 'skiing', 'skim', 'skins', 'skip', 'skipping', 'skirting', 'skydiving', 'skylight', 'skyteam', 'slabs', 'slate', 'sleeper', 'sleeve', 'slice', 'sliced', 'slices', 'slicing', 'slide', 'slides', 'slight', 'slightly', 'slope', 'sloped', 'sloping', 'slot', 'slovakia', 'slovenia', 'slower', 'slowly', 'smallest', 'smart', 'smartphone', 'smelling', 'smells', 'smoked', 'smoker', 'smoothie', 'snake', 'snps', 'soak', 'soaked', 'soap', 'soccer', 'social', 'sociality', 'socializing', 'sockets', 'sofia', 'soften', 'softer', 'soggy', 'sold', 'solder', 'soldering', 'sole', 'solutions', 'solved', 'solving', 'somatic', 'somebody', 'son', 'sonar', 'soon', 'sorbet', 'sort', 'sorting', 'souffle', 'soufflé', 'soundproof', 'sounds', 'soups', 'sources', 'southwest', 'souvenirs', 'soymilk', 'sp', 'spa', 'spaces', 'spacing', 'spackle', 'spackling', 'span', 'speak', 'speaker', 'speaking', 'spec', 'speciation', 'specifically', 'specification', 'specifications', 'specified', 'specify', 'spectrometry', 'spectrum', 'speculative', 'speeding', 'speeds', 'spend', 'spending', 'spent', 'sperm', 'spherical', 'spherification', 'spice', 'spider', 'spiders', 'spigot', 'spikes', 'spilled', 'spin', 'spinach', 'spinal', 'spindle', 'spinning', 'spiral', 'spirit', 'spit', 'splice', 'splicing', 'splitter', 'splitting', 'spoil', 'spoiled', 'sponsor', 'spoon', 'spot', 'spouse', 'spouses', 'spout', 'sprayer', 'spraying', 'spraypainting', 'spread', 'springs', 'sprouting', 'sprouts', 'squares', 'squeak', 'squeaking', 'squeaky', 'squid', 'st', 'stability', 'stabilize', 'stabilizer', 'stabilizing', 'stable', 'stack', 'stacked', 'stacking', 'staff', 'stage', 'stages', 'stained', 'stair', 'staircase', 'stale', 'stall', 'stamped', 'standby', 'standing', 'staple', 'star', 'starch', 'started', 'starts', 'stateless', 'statement', 'statements', 'static', 'stayed', 'stays', 'steaks', 'steamed', 'steamer', 'steering', 'steganography', 'stems', 'stew', 'stewing', 'sticker', 'sticks', 'stimulate', 'stimulation', 'stinky', 'stn', 'stolen', 'stomach', 'stones', 'stoneware', 'stopovers', 'stopped', 'stopper', 'stopping', 'stores', 'storm', 'story', 'stoves', 'stovetop', 'strain', 'strains', 'strand', 'stranded', 'strands', 'strategies', 'strategy', 'strawberries', 'strawberry', 'streaks', 'streaming', 'strengthen', 'stress', 'stretch', 'stretching', 'strict', 'strictly', 'strike', 'strikes', 'strings', 'stripped', 'stripping', 'strips', 'stronger', 'students', 'studies', 'studying', 'stuff', 'stuffed', 'stuffing', 'styrofoam', 'subgroup', 'submit', 'subsequent', 'subset', 'substance', 'substances', 'substituted', 'substitutes', 'substrate', 'subway', 'success', 'successful', 'successfully', 'suction', 'sudden', 'suddenly', 'sugars', 'suggest', 'suggestion', 'suitcase', 'suite', 'suited', 'sum', 'sun', 'sunday', 'sunflower', 'sunlight', 'sunny', 'sunroom', 'super', 'supermarket', 'supplies', 'supported', 'supporting', 'supports', 'supposed', 'suppression', 'surfaces', 'surfing', 'surgery', 'surname', 'surround', 'surrounding', 'survival', 'susceptible', 'suspended', 'suspension', 'svo', 'swamp', 'swarm', 'sweat', 'swedish', 'sweetened', 'sweeter', 'sweetness', 'swim', 'swing', 'switching', 'syd', 'symbol', 'symmetry', 'sympathetic', 'symptoms', 'synapse', 'synapses', 'synaptic', 'syndrome', 'synthase', 'synthesis', 'synthesize', 'syrian', 'systemic', 't3', 't7', 'tables', 'tablet', 'tahini', 'tail', 'taipei', 'taiwanese', 'tajikistan', 'takes', 'talk', 'tall', 'taller', 'tallinn', 'tamales', 'tamarind', 'tamil', 'tamper', 'tanks', 'tanzania', 'taping', 'target', 'tart', 'tartar', 'task', 'tasks', 'tastes', 'tasting', 'tasty', 'tatkal', 'tatras', 'taxes', 'tcga', 'teach', 'tear', 'tearing', 'technical', 'technology', 'teeth', 'teflon', 'tehran', 'tel', 'telephone', 'television', 'telomere', 'telomeres', 'temp', 'tempered', 'tempering', 'template', 'temples', 'temporarily', 'tend', 'tender', 'tenderize', 'tenderizing', 'tenderloin', 'tenerife', 'tension', 'tent', 'terminals', 'terminate', 'termination', 'termite', 'termites', 'terrestrial', 'territories', 'tester', 'tests', 'texas', 'textbook', 'texts', 'textured', 'tfl', 'tgv', 'thalys', 'thanksgiving', 'thaw', 'thawed', 'thawing', 'theater', 'theft', 'theorem', 'theoretically', 'therapy', 'thermocouple', 'thermodynamics', 'thermostatic', 'thermostats', 'thessaloniki', 'thicker', 'think', 'thinking', 'thinner', 'thinset', 'thread', 'threaded', 'threads', 'threat', 'throughput', 'throw', 'thrust', 'thumb', 'tibet', 'ticketing', 'tie', 'tied', 'tier', 'ties', 'tiger', 'tight', 'tighten', 'tilapia', 'tiled', 'till', 'tilt', 'timber', 'timed', 'timestamping', 'timezones', 'tin', 'tiny', 'tiramisu', 'tired', 'tissues', 'toast', 'toasted', 'toaster', 'toasting', 'today', 'toffee', 'toggle', 'toilets', 'tolerance', 'toll', 'tolls', 'tongue', 'topping', 'tops', 'torch', 'torn', 'tortilla', 'tortillas', 'total', 'totally', 'touched', 'touching', 'tough', 'touring', 'towel', 'towels', 'tower', 'town', 'toxic', 'toxicity', 'toxin', 'toxins', 'trace', 'tracking', 'tracks', 'tract', 'trade', 'trail', 'trails', 'training', 'trait', 'traits', 'trajectory', 'trane', 'trans', 'transatlantic', 'transcript', 'transcriptional', 'transcripts', 'transfection', 'transferred', 'transferring', 'transform', 'transfusion', 'translate', 'transmission', 'transmitted', 'transparent', 'transplant', 'transplantation', 'transported', 'transporting', 'transposition', 'trapdoor', 'traps', 'trash', 'traveler', 'travelers', 'traveller', 'travels', 'travertine', 'tray', 'treads', 'treat', 'treatment', 'treehouse', 'trek', 'trench', 'trenitalia', 'trial', 'trick', 'tried', 'trigger', 'triggers', 'trinidad', 'triple', 'tripped', 'trna', 'tropical', 'troubleshoot', 'truck', 'truecrypt', 'truffle', 'truffles', 'truly', 'trunk', 'truss', 'trust', 'trusted', 'try', 'tuberculosis', 'tubes', 'tumor', 'tuna', 'tuning', 'tunnel', 'tweak', 'tweakable', 'twin', 'twins', 'twist', 'twofish', 'typically', 'uav', 'uber', 'uganda', 'uht', 'ukrainian', 'ulan', 'ultrasonic', 'ultrasound', 'unable', 'unaccompanied', 'unclog', 'uncooked', 'undercooked', 'underfloor', 'underlying', 'underneath', 'underside', 'understood', 'underwater', 'unencrypted', 'unfinished', 'ungrounded', 'unicity', 'uniform', 'uniformly', 'union', 'university', 'unless', 'unlimited', 'uno', 'unopened', 'unrefrigerated', 'unsafe', 'unscrew', 'unsure', 'unsweetened', 'unusual', 'update', 'updating', 'upgrade', 'upgrades', 'upgrading', 'upper', 'upright', 'ups', 'upside', 'upstairs', 'urgent', 'urine', 'usable', 'usd', 'users', 'usual', 'usually', 'utah', 'utensil', 'utilities', 'utility', 'uv', 'uyuni', 'uzbek', 'uzbekistan', 'v2', 'vac', 'vacations', 'vaccinations', 'vaccine', 'vaccines', 'validate', 'validation', 'valley', 'valves', 'van', 'vantage', 'vapour', 'variable', 'variables', 'variance', 'variant', 'variants', 'variations', 'varieties', 'variety', 'varnish', 'varnishing', 'vary', 'vat', 'vatican', 'veal', 'veggie', 'veggies', 'vehicle', 'vein', 'veins', 'velocity', 'veneer', 'venezuela', 'venison', 'vented', 'verde', 'verifiability', 'verifiable', 'verifying', 'versa', 'versailles', 'version', 'versions', 'vertebrates', 'vertically', 'vessel', 'vessels', 'vestigial', 'vex', 'viable', 'vibration', 'vice', 'victoria', 'video', 'vientiane', 'vietnamese', 'view', 'vigenère', 'vinaigrette', 'vintage', 'viral', 'virgin', 'virginia', 'virtual', 'visible', 'visited', 'visitors', 'visits', 'visualization', 'vital', 'vitamin', 'vivo', 'vodka', 'voice', 'volcanoes', 'volt', 'volts', 'volumes', 'volunteer', 'volunteering', 'voting', 'voucher', 'vouchers', 'vueling', 'vulnerabilities', 'vulnerability', 'vulnerable', 'waffle', 'waffles', 'waiting', 'wales', 'walkway', 'wanting', 'wants', 'war', 'warmer', 'warming', 'warped', 'warsaw', 'wasabi', 'washed', 'wasp', 'wasps', 'watch', 'watermelon', 'waterproof', 'watery', 'watt', 'wattage', 'watts', 'wave', 'wax', 'weak', 'weaken', 'weaker', 'weakness', 'weaknesses', 'weapons', 'wear', 'wearing', 'weatherstripping', 'web', 'websites', 'wedding', 'weed', 'weeds', 'weekend', 'weekends', 'weep', 'wegman', 'weigh', 'weil', 'weinberg', 'weird', 'welder', 'welding', 'wellington', 'went', 'whats', 'wheels', 'whey', 'whilst', 'whipper', 'whipping', 'whirlpool', 'whisk', 'whiskey', 'wi', 'widely', 'wider', 'width', 'wife', 'wind', 'wings', 'winterize', 'wise', 'withstand', 'wizz', 'woman', 'women', 'wont', 'woodstove', 'wool', 'word', 'words', 'workbench', 'workshop', 'worldwide', 'worm', 'worms', 'worn', 'worried', 'worry', 'worse', 'worst', 'wouldn', 'wpa2', 'wrapped', 'wrapping', 'wrench', 'write', 'wroclaw', 'x509', 'xanthan', 'xbox', 'xps', 'xray', 'xts', 'yard', 'yaw', 'yellowstone', 'yield', 'yoghurt', 'yolk', 'yolks', 'yorkshire', 'yosemite', 'young', 'yurt', 'yvr', 'yyz', 'zagreb', 'zambia', 'zest', 'zika', 'zimbabwe', 'zip', 'zones', 'zrh', 'zucchini', 'zygote']\n"
     ]
    }
   ],
   "source": [
    "x_vectorizer = CountVectorizer(min_df=10, max_df=50, stop_words='english')\n",
    "x_vectorizer.fit(data.title.append(data.tags))\n",
    "X = x_vectorizer.transform(data.title).toarray()\n",
    "log('X shape', X.shape)\n",
    "log('X features', x_vectorizer.get_feature_names())\n"
   ]
  },
  {
   "cell_type": "code",
   "execution_count": 78,
   "metadata": {
    "collapsed": false
   },
   "outputs": [
    {
     "name": "stdout",
     "output_type": "stream",
     "text": [
      "\n",
      "==> Y shape: (87000, 1940)\n",
      "\n",
      "==> Y features: ['240v', '2nd', '3d', '3des', 'abe', 'abiogenesis', 'abu', 'accelerometer', 'access', 'accessibility', 'accommodation', 'accumulators', 'acoustic', 'acrylic', 'action', 'activerobot', 'activities', 'actuator', 'adaptation', 'addiction', 'addis', 'addition', 'additives', 'adhesive', 'adventure', 'adversarial', 'advice', 'aes', 'afci', 'affine', 'africa', 'african', 'agriculture', 'aids', 'air', 'airbnb', 'aircraft', 'airlines', 'airport', 'airports', 'alarm', 'alaska', 'albanian', 'alcohol', 'algebraic', 'algorithm', 'allergies', 'allergy', 'almond', 'almonds', 'alternative', 'aluminum', 'amazon', 'american', 'amino', 'ams', 'amsterdam', 'amtrak', 'anaerobic', 'anatomy', 'anchor', 'angle', 'animal', 'anonymity', 'ant', 'antarctica', 'anthropology', 'antibiotic', 'antibiotics', 'antibody', 'antigen', 'ants', 'apoptosis', 'apples', 'appliances', 'application', 'applications', 'aquaculture', 'arachnology', 'architecture', 'arduino', 'ardupilot', 'argentina', 'arithmetic', 'arm', 'artichokes', 'artificial', 'asbestos', 'asian', 'asparagus', 'asphalt', 'astrobiology', 'athens', 'atlanta', 'atms', 'attack', 'attic', 'auroras', 'australia', 'australian', 'austria', 'authenticated', 'authentication', 'autoimmune', 'automatic', 'automation', 'automobiles', 'autonomic', 'auv', 'avocados', 'azerbaijan', 'b1', 'baby', 'backdoors', 'backpacking', 'backsplash', 'backyard', 'bacon', 'bacterial', 'bacteriology', 'bagels', 'baker', 'baking', 'balance', 'bali', 'balkans', 'bananas', 'bandsaw', 'bangkok', 'bangladesh', 'barbecue', 'barcelona', 'barley', 'baseboard', 'basement', 'basics', 'basil', 'bath', 'bathroom', 'bathtub', 'batter', 'battery', 'bcrypt', 'beaches', 'beagle', 'beam', 'beans', 'bec', 'bechamel', 'bedroom', 'beef', 'beer', 'beets', 'beggars', 'beginner', 'behaviour', 'belgium', 'bell', 'bench', 'berlin', 'beverages', 'bicycles', 'bikes', 'bio', 'biochemistry', 'biodiversity', 'bioenergetics', 'biofilms', 'bioinformatics', 'bioinorganic', 'biological', 'bioluminescence', 'biomedical', 'biometric', 'biophysics', 'biostatistics', 'biosynthesis', 'biotechnology', 'birthday', 'biscuits', 'bitcoin', 'blake2', 'blanching', 'blast', 'blender', 'blind', 'blinds', 'block', 'blockage', 'blocksize', 'blood', 'blower', 'blowfish', 'blueberries', 'blum', 'boiler', 'boiling', 'bolivia', 'bolts', 'bone', 'bones', 'book', 'bookings', 'books', 'borders', 'bosnia', 'botany', 'botulism', 'bouillon', 'brackets', 'brain', 'braising', 'brazil', 'bread', 'breadcrumbs', 'breaker', 'breakfast', 'breathing', 'brick', 'brining', 'brisbane', 'brisket', 'british', 'broadcast', 'broccoli', 'broiler', 'broth', 'brown', 'brownies', 'brushless', 'brussels', 'brute', 'budget', 'buenos', 'building', 'bulb', 'bulgaria', 'bulk', 'burnt', 'buses', 'butter', 'cabbage', 'cabinets', 'cable', 'cables', 'cabling', 'caffeine', 'cajun', 'cake', 'calibration', 'california', 'calories', 'cambodia', 'cameras', 'camping', 'canada', 'canadian', 'cancellations', 'cancer', 'candy', 'canning', 'car', 'caramel', 'caramelization', 'carbohydrates', 'carbonation', 'cardiology', 'caribbean', 'carpentry', 'carpet', 'carport', 'carrots', 'cas9', 'casserole', 'cast', 'catering', 'cauliflower', 'caulk', 'caulking', 'cbc', 'ccm', 'cdg', 'ceiling', 'cell', 'cellphones', 'cellular', 'cement', 'central', 'ceramic', 'certificateless', 'certificates', 'cfl', 'chacha', 'chain', 'chainsaw', 'challenge', 'change', 'charcuterie', 'check', 'cheese', 'cheesecake', 'chembl', 'chemicals', 'chemistry', 'cherries', 'chestnuts', 'chia', 'chicago', 'chicken', 'chickens', 'chickpeas', 'child', 'children', 'chile', 'chili', 'chilling', 'chimerism', 'chimney', 'china', 'chinese', 'chip', 'chips', 'chloroplasts', 'chocolate', 'cholesterol', 'chosen', 'chromatin', 'chromatography', 'chromosome', 'chutney', 'cinderblock', 'cinnamon', 'ciphertext', 'circadian', 'circuit', 'circular', 'circulatory', 'cities', 'citrus', 'cladistics', 'classical', 'classification', 'cleaning', 'climate', 'clinical', 'cloning', 'closet', 'clothes', 'clothing', 'clotted', 'cmac', 'cms', 'cnc', 'coax', 'coaxial', 'cocktails', 'cocoa', 'coconut', 'cod', 'code', 'coding', 'coffee', 'collision', 'colombia', 'color', 'coloring', 'commitments', 'communication', 'community', 'commutative', 'comparisons', 'compass', 'compensation', 'complexity', 'compression', 'compressor', 'computational', 'computer', 'concrete', 'condiments', 'conduit', 'confit', 'congruence', 'conservation', 'consistency', 'construction', 'consulates', 'containers', 'contractors', 'control', 'convection', 'convenience', 'conversion', 'cookbook', 'cookies', 'cooking', 'cookware', 'cooling', 'copenhagen', 'copper', 'copy', 'coriander', 'corn', 'corned', 'corner', 'cornflake', 'cornstarch', 'corrosion', 'couchsurfing', 'countertops', 'countries', 'crab', 'crack', 'crackers', 'cranberries', 'cranial', 'crawfish', 'crawlspace', 'crc', 'cream', 'creme', 'crepe', 'crispr', 'croatia', 'crockpot', 'crossover', 'cruising', 'crumb', 'crust', 'cryptanalysis', 'cryptographic', 'ctr', 'cuba', 'cucumbers', 'culinary', 'cultural', 'culture', 'cupcakes', 'curing', 'current', 'curry', 'curtain', 'custard', 'custom', 'customs', 'cut', 'cutting', 'cycle', 'cytoskeleton', 'dairy', 'damage', 'damp', 'dangerous', 'data', 'database', 'datv', 'day', 'deadbolt', 'death', 'decay', 'deck', 'decking', 'decomposition', 'decorating', 'deep', 'definitions', 'deflection', 'defrosting', 'dehumidifier', 'dehydrating', 'delays', 'delta', 'demolition', 'dendrology', 'deniable', 'des', 'design', 'desk', 'dessert', 'destinations', 'deterministic', 'development', 'dh', 'diabetes', 'diet', 'differential', 'diffie', 'digestion', 'digestive', 'digital', 'dimmer', 'discrete', 'dishwasher', 'disk', 'disney', 'disposal', 'disputed', 'distinguisher', 'distributed', 'diving', 'diy', 'dna', 'dogs', 'doha', 'domestic', 'door', 'doorbell', 'doorknob', 'doors', 'dopamine', 'dough', 'doughnuts', 'downspout', 'draft', 'drafting', 'drain', 'drainage', 'drains', 'drawers', 'dreaming', 'dress', 'drill', 'drinks', 'driver', 'driveway', 'driving', 'dry', 'dryer', 'drying', 'drywall', 'dsa', 'dual', 'dubai', 'duck', 'duct', 'ducts', 'ductwork', 'dulce', 'dumplings', 'dutch', 'duty', 'dxb', 'dynamics', 'dynamixel', 'eastern', 'eax', 'ecb', 'ecies', 'ecoli', 'ecology', 'ecosystem', 'ecuador', 'ed25519', 'education', 'eeg', 'egg', 'eggplant', 'eggs', 'egress', 'egypt', 'ekf', 'electric', 'electrical', 'electrocardiography', 'electroencephalography', 'electronic', 'electronics', 'electrophysiology', 'elgamal', 'elisa', 'elliptic', 'embassies', 'embedded', 'embryology', 'emergencies', 'emergency', 'emirates', 'emulsion', 'encapsulation', 'encoding', 'encryption', 'endocrinology', 'energy', 'engine', 'engineered', 'engineering', 'england', 'english', 'enigma', 'entomology', 'entropy', 'environment', 'enzyme', 'enzymes', 'epidemiology', 'epigenetics', 'epoxy', 'equipment', 'errors', 'esc', 'espresso', 'esta', 'estonia', 'ethernet', 'ethical', 'ethiopia', 'ethology', 'etihad', 'etiquette', 'eu', 'eukaryotic', 'eurail', 'europe', 'evaporated', 'evaporative', 'event', 'events', 'evolution', 'evolutionary', 'ewr', 'excavation', 'excavator', 'exchange', 'excreta', 'exhaust', 'exons', 'expedia', 'experiment', 'experimental', 'extension', 'exterior', 'extermination', 'extinction', 'extracts', 'extreme', 'extremophiles', 'eyes', 'f1', 'factoids', 'factorization', 'failure', 'family', 'fan', 'fans', 'fares', 'fastener', 'fastening', 'fat', 'fats', 'fatty', 'faucet', 'feal', 'fees', 'feistel', 'fence', 'fermentation', 'ferries', 'festivals', 'fiat', 'fiji', 'file', 'filter', 'filtering', 'finish', 'finishing', 'finite', 'fips', 'fireplace', 'fireproof', 'firewood', 'fish', 'fitness', 'fitting', 'flambe', 'flan', 'flange', 'flashing', 'flatbread', 'flavor', 'flavour', 'flight', 'flooding', 'floor', 'flooring', 'florence', 'flour', 'flow', 'flowering', 'flowers', 'fluorescent', 'foam', 'foil', 'fondant', 'food', 'footings', 'force', 'forensics', 'format', 'forward', 'foundation', 'frame', 'framing', 'france', 'freezing', 'freighter', 'french', 'frequency', 'fresh', 'frosting', 'frozen', 'fruit', 'frying', 'fudge', 'functional', 'furnace', 'furniture', 'gait', 'ganache', 'gap', 'garage', 'garbage', 'garbled', 'gardening', 'garlic', 'gas', 'gastroenterology', 'gate', 'gates', 'gazebo', 'gcm', 'gds', 'gear', 'gel', 'gelatin', 'gelling', 'gene', 'general', 'generator', 'genetics', 'genomes', 'genomics', 'georgia', 'georgian', 'germany', 'germination', 'gfci', 'ginger', 'gingerbread', 'glass', 'glaze', 'global', 'glucose', 'glue', 'gluten', 'gnocchi', 'goose', 'gps', 'grade', 'grading', 'graham', 'grains', 'grand', 'granite', 'granola', 'grass', 'gravel', 'gravy', 'greece', 'greek', 'greens', 'griddle', 'grilling', 'grinder', 'grinding', 'ground', 'grounding', 'group', 'grout', 'growth', 'guidebooks', 'guides', 'gumbo', 'gutters', 'gwas', 'gyroscope', 'h1b', 'hair', 'halogen', 'ham', 'hamburgers', 'hand', 'hanging', 'hard', 'hardness', 'hardware', 'hardwood', 'hash', 'havana', 'healing', 'health', 'hearing', 'heat', 'heater', 'heating', 'helsinki', 'hematology', 'herbs', 'high', 'hiking', 'hill', 'hillwalking', 'hinges', 'hiring', 'histology', 'histone', 'history', 'hitchhiking', 'hiv', 'hkdf', 'hmac', 'hole', 'hollandaise', 'home', 'homeostasis', 'homework', 'homocysteine', 'homology', 'homomorphic', 'honey', 'hong', 'hood', 'horizontal', 'hose', 'hostels', 'hot', 'hotels', 'hotp', 'house', 'human', 'humanoid', 'humidifier', 'humidity', 'hummus', 'hungarian', 'hungary', 'hvac', 'hybridization', 'hygiene', 'i2c', 'ice', 'iceland', 'ichthyology', 'icing', 'idea', 'identification', 'identify', 'identity', 'imaging', 'immune', 'immunity', 'immunology', 'implementation', 'import', 'imu', 'index', 'india', 'indian', 'indonesia', 'induction', 'industrial', 'infection', 'information', 'infusion', 'ingredient', 'initialization', 'injury', 'input', 'insect', 'inspection', 'installation', 'insulation', 'insurance', 'integrity', 'intelligence', 'interior', 'international', 'internet', 'interrail', 'interrupts', 'intracellular', 'inverse', 'invertebrates', 'ipsec', 'iran', 'ireland', 'iris', 'irobot', 'irrigation', 'islands', 'israel', 'ist', 'istanbul', 'ita', 'italian', 'italy', 'itineraries', 'jacobian', 'jalapeno', 'jam', 'jamaican', 'japan', 'japanese', 'java', 'javascript', 'jelly', 'jerk', 'jerky', 'jetlag', 'jewish', 'jfk', 'jicama', 'joinery', 'joint', 'joints', 'joists', 'jordan', 'juice', 'junction', 'kale', 'kalman', 'kazakhstan', 'kebab', 'keccak', 'kefir', 'kem', 'kerdi', 'key', 'keys', 'kidney', 'kilimanjaro', 'kimchi', 'kinect', 'kinematics', 'kinetics', 'kingfisher', 'kit', 'kitchen', 'kitchens', 'klm', 'knapsack', 'kneading', 'knife', 'knives', 'knob', 'known', 'kohlrabi', 'kosher', 'lab', 'ladder', 'lally', 'lamb', 'laminate', 'lamp', 'landmarks', 'landscaping', 'language', 'languages', 'laos', 'las', 'lasagna', 'laser', 'lath', 'lattice', 'latvia', 'laundry', 'lawn', 'layout', 'layovers', 'lead', 'leak', 'leaks', 'learning', 'led', 'leeks', 'legal', 'legged', 'legumes', 'lemon', 'length', 'lennox', 'lentils', 'lentivirus', 'lettuce', 'level', 'lfsr', 'lhr', 'libsodium', 'license', 'life', 'lifespan', 'ligation', 'light', 'lighting', 'lightweight', 'line', 'linear', 'linoleum', 'linux', 'lipids', 'liqueur', 'literature', 'liver', 'load', 'local', 'localization', 'locate', 'lock', 'locks', 'logic', 'london', 'long', 'los', 'lounges', 'low', 'loyalty', 'lubrication', 'lufthansa', 'luggage', 'lumber', 'lungs', 'lymphatic', 'mac', 'macarons', 'machine', 'machu', 'magnetometer', 'mail', 'mailbox', 'maintenance', 'malaysia', 'malaysian', 'mali', 'malleability', 'malt', 'malta', 'mammals', 'man', 'mango', 'manipulator', 'manufacturing', 'maple', 'mapping', 'maps', 'marble', 'marinade', 'marine', 'marriages', 'marrow', 'marshmallow', 'mascarpone', 'masonry', 'mass', 'materials', 'mathematical', 'matlab', 'matrix', 'mayonnaise', 'mceliece', 'md5', 'mdf', 'measurement', 'measurements', 'measuring', 'meat', 'meatballs', 'meatloaf', 'mechanism', 'medicinal', 'medicine', 'meet', 'meiosis', 'melamine', 'melanin', 'melatonin', 'melon', 'melting', 'membrane', 'memory', 'menstrual', 'mental', 'menu', 'meringue', 'merkle', 'metabolism', 'metal', 'methods', 'mexican', 'mexico', 'mice', 'microarray', 'microbiology', 'microcontroller', 'micromouse', 'microscopy', 'microwave', 'middle', 'milk', 'mindstorms', 'minerals', 'minipreps', 'minors', 'mint', 'mirror', 'missed', 'miter', 'mitochondria', 'mitosis', 'mixing', 'mobile', 'modes', 'modular', 'moisture', 'mold', 'molecular', 'money', 'mongolia', 'mongolian', 'montgomery', 'morocco', 'morphology', 'mortar', 'mosquitoes', 'motion', 'motor', 'moulding', 'mountains', 'mounting', 'mousse', 'movement', 'mri', 'mrna', 'msg', 'mudding', 'muffins', 'multi', 'multiparty', 'multiple', 'munich', 'muscles', 'museums', 'mushrooms', 'mussels', 'mustard', 'mutations', 'mutton', 'myanmar', 'mycology', 'nails', 'national', 'natural', 'nature', 'navigation', 'nec', 'negligible', 'nepal', 'netherlands', 'network', 'neuroanatomy', 'neurology', 'neuromodulation', 'neurophysiology', 'neuroscience', 'neurotransmitter', 'new', 'niagara', 'nigerian', 'nightlife', 'nist', 'noise', 'nomenclature', 'non', 'nonce', 'noodles', 'north', 'northern', 'norway', 'notation', 'nrt', 'ntru', 'nucleic', 'number', 'nutrient', 'nutrition', 'nuts', 'nxt', 'oats', 'oblivious', 'odometry', 'odors', 'ofb', 'offal', 'officials', 'oil', 'okra', 'olfaction', 'olive', 'olympics', 'omelette', 'onions', 'online', 'ontario', 'ontogeny', 'opencv', 'openni', 'openssl', 'oranges', 'ord', 'order', 'oregon', 'organic', 'organization', 'organs', 'orlando', 'ornithology', 'osmoregulation', 'osmosis', 'outdoor', 'outlets', 'oven', 'overland', 'overstaying', 'packaging', 'padding', 'paillier', 'pain', 'paint', 'painting', 'pairing', 'pairings', 'palaeontology', 'pan', 'panama', 'pancakes', 'paneer', 'paperwork', 'paprika', 'parasitism', 'parasitology', 'parchment', 'paris', 'parsley', 'parsnip', 'particle', 'passenger', 'passport', 'passports', 'password', 'passwords', 'pasta', 'pastry', 'patch', 'patching', 'pathogenesis', 'pathology', 'pathophysiology', 'pathway', 'patio', 'pavers', 'payment', 'pbkdf', 'pcr', 'pdb', 'peaches', 'peanut', 'peanuts', 'pectin', 'pedagogy', 'pedigree', 'peeling', 'pen', 'pepper', 'perception', 'perfect', 'performance', 'pergola', 'peripheral', 'permutation', 'peru', 'pest', 'pets', 'pex', 'pgp', 'ph', 'pharmacodynamics', 'pharmacokinetics', 'pharmacology', 'philippine', 'philippines', 'phone', 'phosphorylation', 'photography', 'photoperiod', 'photosynthesis', 'phylogenetics', 'physiology', 'pickling', 'pid', 'pie', 'pigmentation', 'pine', 'pineapple', 'pipe', 'pir', 'pita', 'pizza', 'pkcs11', 'pki', 'planning', 'plant', 'planting', 'plasma', 'plasmids', 'plaster', 'plastic', 'platform', 'plating', 'plausible', 'play', 'playfair', 'plumbing', 'plywood', 'poaching', 'pocket', 'pohlig', 'poison', 'poland', 'pole', 'polenta', 'polymerase', 'polyploidy', 'polyurethane', 'pool', 'pop', 'popcorn', 'population', 'porch', 'pork', 'portugal', 'post', 'pot', 'potatoes', 'power', 'powertools', 'prague', 'predicate', 'pregnancy', 'preimage', 'preparation', 'presentation', 'pressure', 'pretzels', 'price', 'prime', 'primer', 'private', 'probability', 'produce', 'product', 'professional', 'programming', 'projector', 'proof', 'propane', 'protection', 'protein', 'proteins', 'protocol', 'provable', 'provence', 'pseudo', 'psychology', 'public', 'publishing', 'pudding', 'puff', 'pump', 'pumpkin', 'pushfit', 'putty', 'pvc', 'pwm', 'python', 'qatar', 'quadcopter', 'quadratic', 'quantitative', 'quantum', 'quickbread', 'quinoa', 'rabbit', 'rabin', 'radiant', 'radiation', 'radiator', 'radio', 'radon', 'railing', 'rain', 'random', 'randomness', 'range', 'raspberry', 'ratio', 'rationale', 'ravioli', 'raw', 'rc2', 'rc4', 'rcservo', 'real', 'receptacle', 'receptor', 'recessed', 'recipe', 'recombinant', 'recombination', 'recommendations', 'recycling', 'red', 'reduction', 'reference', 'reflexes', 'refrigerator', 'refunds', 'registration', 'regulations', 'reheating', 'reinforcement', 'religion', 'remodeling', 'remote', 'removal', 'renal', 'render', 'renovation', 'rental', 'repainting', 'repair', 'replacement', 'replay', 'reprap', 'reproduction', 'reproductive', 'reptile', 'research', 'residency', 'resources', 'respiration', 'restaurant', 'restaurants', 'restriction', 'retaining', 'retrovirus', 'reverse', 'review', 'rhubarb', 'ribosome', 'ribs', 'rice', 'rijndael', 'ripe', 'ripemd', 'risotto', 'rna', 'road', 'roast', 'roasting', 'robotc', 'robotic', 'rock', 'romania', 'rome', 'roof', 'roofing', 'roomba', 'rope', 'ros', 'routers', 'routes', 'roux', 'rs232', 'rsa', 'russia', 'rust', 'ryanair', 'safety', 'sailing', 'saint', 'salad', 'salami', 'saliva', 'salmon', 'salsa', 'salsa20', 'salt', 'san', 'sander', 'sanding', 'sandwich', 'sardines', 'sauce', 'saudi', 'sauerkraut', 'sausages', 'sauteing', 'saw', 'scallops', 'scatology', 'scenic', 'schengen', 'schnorr', 'scientific', 'scotland', 'scrambled', 'screens', 'screws', 'scrypt', 'sds', 'sea', 'seafood', 'sealing', 'seasonal', 'seasoning', 'seating', 'secret', 'secure', 'security', 'seeds', 'seitan', 'selection', 'self', 'semantic', 'senescence', 'sensation', 'senses', 'sensor', 'sensors', 'septic', 'sequence', 'serial', 'serpent', 'serving', 'servomotor', 'servos', 'severe', 'sewer', 'sex', 'sexual', 'sfo', 'sha', 'shallots', 'shamir', 'shanghai', 'sharpening', 'sheathing', 'shed', 'sheetrock', 'shellfish', 'shelving', 'shingles', 'shipping', 'ships', 'shopping', 'short', 'shortening', 'shower', 'shrimp', 'shutters', 'sidewalk', 'siding', 'sightseeing', 'signature', 'silicone', 'simon', 'simulation', 'simulator', 'singapore', 'sink', 'sinkhole', 'siphash', 'skillet', 'skin', 'skirting', 'skylight', 'slab', 'slam', 'sleep', 'sleeping', 'sliding', 'slow', 'small', 'smell', 'smoke', 'smoking', 'smoothie', 'snow', 'snp', 'soaking', 'soccer', 'sociality', 'socket', 'soda', 'soffit', 'software', 'soil', 'solar', 'soldering', 'solo', 'sonar', 'sorbet', 'souffle', 'sound', 'soup', 'sour', 'sourdough', 'sous', 'south', 'southeast', 'southwest', 'soy', 'soymilk', 'spackling', 'spaghetti', 'spain', 'spanish', 'speakers', 'speciation', 'species', 'speech', 'spherification', 'spicejet', 'spices', 'spicy', 'spinach', 'splicing', 'spoilage', 'sponge', 'spouses', 'spray', 'spraying', 'spraypainting', 'sprinkler', 'sprouting', 'squash', 'squeak', 'srp', 'ssh', 'stability', 'stain', 'staining', 'stainless', 'stairs', 'stand', 'standard', 'standards', 'star', 'starter', 'statistical', 'statistics', 'steak', 'steam', 'steaming', 'steel', 'steganography', 'stem', 'stepper', 'steps', 'stereo', 'stews', 'stir', 'stock', 'stockholm', 'stomach', 'stone', 'stop', 'storage', 'storm', 'stove', 'strawberries', 'stream', 'stress', 'structural', 'stucco', 'studs', 'study', 'stuffing', 'subfloor', 'subpanel', 'substitution', 'substitutions', 'sugar', 'summer', 'sump', 'support', 'surge', 'sushi', 'sweden', 'sweet', 'sweeteners', 'swimming', 'swiss', 'switch', 'switzerland', 'sydney', 'symmetric', 'synapses', 'synestesia', 'synthetic', 'syrup', 'systems', 't7', 'table', 'tahini', 'taiwan', 'tankless', 'tanzania', 'taping', 'taps', 'tart', 'taste', 'tax', 'taxes', 'taxis', 'taxonomy', 'tcga', 'tea', 'technique', 'teeth', 'teflon', 'telephone', 'television', 'telomere', 'temperature', 'tenderizing', 'terminology', 'termite', 'territoriality', 'test', 'testing', 'texture', 'thai', 'thailand', 'thawing', 'theoretical', 'theory', 'thermocouple', 'thermodynamics', 'thermometer', 'thermostat', 'thickening', 'thinset', 'threefish', 'threshold', 'tickets', 'tile', 'tiling', 'timber', 'timed', 'timer', 'timestamping', 'timezones', 'timing', 'tipping', 'tips', 'tissue', 'tls', 'toffee', 'tofino', 'tofu', 'toilet', 'tokyo', 'tomatoes', 'tongue', 'tools', 'toronto', 'torque', 'tortilla', 'tourist', 'tours', 'toxicology', 'tracks', 'traditional', 'traffic', 'trains', 'trans', 'transcription', 'transfer', 'transformation', 'transformer', 'transit', 'transition', 'translation', 'transplantation', 'transport', 'transportation', 'transposition', 'trapdoor', 'trash', 'travel', 'treehouse', 'trees', 'trekking', 'trench', 'trim', 'troubleshooting', 'truffles', 'trusted', 'tsa', 'tuna', 'turkey', 'turkish', 'tv', 'twins', 'twofish', 'tzatziki', 'uav', 'uber', 'uganda', 'ugv', 'uht', 'uk', 'ultrasonic', 'underground', 'underlayment', 'underwater', 'united', 'universal', 'untagged', 'usa', 'usb', 'utensils', 'utilities', 'vacations', 'vaccination', 'vacuum', 'valve', 'vancouver', 'vanilla', 'vanity', 'vantage', 'vapor', 'varnishing', 'veal', 'vegan', 'vegetable', 'vegetables', 'vegetarian', 'veneer', 'venice', 'venison', 'vent', 'ventilation', 'venting', 'verifiability', 'vex', 'vienna', 'vietnam', 'vigenere', 'vinegar', 'vinyl', 'virology', 'virus', 'visa', 'visas', 'vision', 'visual', 'vital', 'vitamins', 'vodka', 'volunteering', 'voting', 'vwp', 'waffle', 'wales', 'walk', 'walking', 'walkway', 'wallpaper', 'walls', 'warsaw', 'washer', 'washing', 'washington', 'wasps', 'water', 'watermelon', 'waterproofing', 'weather', 'weatherstripping', 'websites', 'welding', 'western', 'wet', 'wheat', 'wheel', 'wheeled', 'whipped', 'whipper', 'whiskey', 'white', 'wifi', 'wind', 'windmill', 'windows', 'wine', 'winter', 'winterizing', 'wire', 'wireless', 'wiring', 'wok', 'wood', 'wooden', 'woodstove', 'woodworking', 'work', 'working', 'workshop', 'wpa2', 'xml', 'xor', 'xray', 'xts', 'yeast', 'yellowstone', 'yogurt', 'yorkshire', 'zero', 'zoology', 'zucchini']\n"
     ]
    }
   ],
   "source": [
    "# we want all tags\n",
    "y_vectorizer = CountVectorizer(stop_words='english')\n",
    "y_vectorizer.fit(data.tag)\n",
    "Y = y_vectorizer.transform(data.tag).toarray()\n",
    "log('Y shape', Y.shape)\n",
    "log('Y features', y_vectorizer.get_feature_names())\n",
    "\n"
   ]
  },
  {
   "cell_type": "code",
   "execution_count": 62,
   "metadata": {
    "collapsed": false,
    "deletable": true,
    "editable": true
   },
   "outputs": [
    {
     "name": "stdout",
     "output_type": "stream",
     "text": [
      "\n",
      "==> X train: (58290, 5274)\n",
      "\n",
      "==> Y train: (58290, 2274)\n",
      "\n",
      "==> X test: (28710, 5274)\n",
      "\n",
      "==> Y test: (28710, 2274)\n"
     ]
    }
   ],
   "source": [
    "X_train, X_test, Y_train, Y_test = train_test_split(X, Y, test_size=0.33, random_state=42)\n",
    "log('X train', X_train.shape)\n",
    "log('Y train', Y_train.shape)\n",
    "log('X test', X_test.shape)\n",
    "log('Y test', Y_test.shape)"
   ]
  },
  {
   "cell_type": "code",
   "execution_count": 67,
   "metadata": {
    "collapsed": false
   },
   "outputs": [
    {
     "name": "stdout",
     "output_type": "stream",
     "text": [
      "Training Step: 589  | total loss: \u001b[1m\u001b[32m2.41579\u001b[0m\u001b[0m | time: 456.627s\n",
      "| Adam | epoch: 010 | loss: 2.41579 - acc: 0.4961 -- iter: 58000/58290\n",
      "Training Step: 590  | total loss: \u001b[1m\u001b[32m2.42485\u001b[0m\u001b[0m | time: 563.161s\n",
      "| Adam | epoch: 010 | loss: 2.42485 - acc: 0.4950 | val_loss: 7.20262 - val_acc: 0.1607 -- iter: 58290/58290\n",
      "--\n"
     ]
    }
   ],
   "source": [
    "net = tflearn.input_data(shape=[None, X.shape[1]])\n",
    "net = tflearn.fully_connected(net, X.shape[1] * 2)\n",
    "net = tflearn.fully_connected(net, Y.shape[1], activation='softmax')\n",
    "net = tflearn.regression(net)\n",
    "\n",
    "model = tflearn.DNN(net)\n",
    "model.fit(X_train, Y_train, validation_set=(X_test, Y_test), n_epoch=10, batch_size=1000, show_metric=True)"
   ]
  },
  {
   "cell_type": "code",
   "execution_count": 71,
   "metadata": {
    "collapsed": false
   },
   "outputs": [
    {
     "data": {
      "text/plain": [
       "[0.16074538488435397]"
      ]
     },
     "execution_count": 71,
     "metadata": {},
     "output_type": "execute_result"
    }
   ],
   "source": [
    "model.evaluate(X_test, Y_test)"
   ]
  },
  {
   "cell_type": "code",
   "execution_count": 70,
   "metadata": {
    "collapsed": false
   },
   "outputs": [
    {
     "name": "stdout",
     "output_type": "stream",
     "text": [
      "INFO:tensorflow:/Users/icostan/Work/kaggle/tags/dnn-nb is not in all_model_checkpoint_paths. Manually adding it.\n"
     ]
    }
   ],
   "source": [
    "model.save('dnn-nb')"
   ]
  },
  {
   "cell_type": "code",
   "execution_count": 80,
   "metadata": {
    "collapsed": false
   },
   "outputs": [
    {
     "data": {
      "text/html": [
       "<div>\n",
       "<table border=\"1\" class=\"dataframe\">\n",
       "  <thead>\n",
       "    <tr style=\"text-align: right;\">\n",
       "      <th></th>\n",
       "      <th>id</th>\n",
       "      <th>title</th>\n",
       "      <th>content</th>\n",
       "    </tr>\n",
       "  </thead>\n",
       "  <tbody>\n",
       "    <tr>\n",
       "      <th>0</th>\n",
       "      <td>1</td>\n",
       "      <td>What is spin as it relates to subatomic partic...</td>\n",
       "      <td>&lt;p&gt;I often hear about subatomic particles havi...</td>\n",
       "    </tr>\n",
       "    <tr>\n",
       "      <th>1</th>\n",
       "      <td>2</td>\n",
       "      <td>What is your simplest explanation of the strin...</td>\n",
       "      <td>&lt;p&gt;How would you explain string theory to non ...</td>\n",
       "    </tr>\n",
       "    <tr>\n",
       "      <th>2</th>\n",
       "      <td>3</td>\n",
       "      <td>Lie theory, Representations and particle physics</td>\n",
       "      <td>&lt;p&gt;This is a question that has been posted at ...</td>\n",
       "    </tr>\n",
       "    <tr>\n",
       "      <th>3</th>\n",
       "      <td>7</td>\n",
       "      <td>Will Determinism be ever possible?</td>\n",
       "      <td>&lt;p&gt;What are the main problems that we need to ...</td>\n",
       "    </tr>\n",
       "    <tr>\n",
       "      <th>4</th>\n",
       "      <td>9</td>\n",
       "      <td>Hamilton's Principle</td>\n",
       "      <td>&lt;p&gt;Hamilton's principle states that a dynamic ...</td>\n",
       "    </tr>\n",
       "  </tbody>\n",
       "</table>\n",
       "</div>"
      ],
      "text/plain": [
       "   id                                              title  \\\n",
       "0   1  What is spin as it relates to subatomic partic...   \n",
       "1   2  What is your simplest explanation of the strin...   \n",
       "2   3   Lie theory, Representations and particle physics   \n",
       "3   7                 Will Determinism be ever possible?   \n",
       "4   9                               Hamilton's Principle   \n",
       "\n",
       "                                             content  \n",
       "0  <p>I often hear about subatomic particles havi...  \n",
       "1  <p>How would you explain string theory to non ...  \n",
       "2  <p>This is a question that has been posted at ...  \n",
       "3  <p>What are the main problems that we need to ...  \n",
       "4  <p>Hamilton's principle states that a dynamic ...  "
      ]
     },
     "execution_count": 80,
     "metadata": {},
     "output_type": "execute_result"
    }
   ],
   "source": [
    "test_data.head()"
   ]
  },
  {
   "cell_type": "code",
   "execution_count": 75,
   "metadata": {
    "collapsed": false
   },
   "outputs": [
    {
     "name": "stdout",
     "output_type": "stream",
     "text": [
      "\n",
      "==> XX: (81926, 5274)\n",
      "\n",
      "==> YY: (2, 2274)\n",
      "\n",
      "==> YY: 0       0\n",
      "1       0\n",
      "2       1\n",
      "3       0\n",
      "4       0\n",
      "5       0\n",
      "6       0\n",
      "7       0\n",
      "8       0\n",
      "9       0\n",
      "10      0\n",
      "11      0\n",
      "12      0\n",
      "13      0\n",
      "14      0\n",
      "15      0\n",
      "16      0\n",
      "17      0\n",
      "18      0\n",
      "19      0\n",
      "20      0\n",
      "21      0\n",
      "22      0\n",
      "23      0\n",
      "24      0\n",
      "25      0\n",
      "26      0\n",
      "27      0\n",
      "28      0\n",
      "29      0\n",
      "       ..\n",
      "2244    0\n",
      "2245    0\n",
      "2246    0\n",
      "2247    0\n",
      "2248    0\n",
      "2249    0\n",
      "2250    0\n",
      "2251    0\n",
      "2252    0\n",
      "2253    0\n",
      "2254    0\n",
      "2255    0\n",
      "2256    0\n",
      "2257    0\n",
      "2258    0\n",
      "2259    0\n",
      "2260    0\n",
      "2261    0\n",
      "2262    0\n",
      "2263    0\n",
      "2264    0\n",
      "2265    0\n",
      "2266    0\n",
      "2267    0\n",
      "2268    0\n",
      "2269    0\n",
      "2270    0\n",
      "2271    0\n",
      "2272    0\n",
      "2273    0\n",
      "dtype: int64\n"
     ]
    }
   ],
   "source": [
    "# we want all tags\n",
    "XX = x_vectorizer.transform(test_data.title).toarray()\n",
    "log('XX', X_pred.shape)\n",
    "\n",
    "YY= pd.DataFrame(model.predict(XX[:2, :]))\n",
    "log('YY', YY.shape)\n",
    "# log('YY', YY.idxmax())"
   ]
  },
  {
   "cell_type": "markdown",
   "metadata": {
    "deletable": true,
    "editable": true
   },
   "source": [
    "## References\n",
    "* http://mlwave.com/kaggle-ensembling-guide/\n",
    "* https://www.kaggle.com/tjvananne/transfer-learning-on-stack-exchange-tags/tag-to-title-content-matching-in-r-first-attempt\n",
    "* https://www.kaggle.com/c/facebook-recruiting-iii-keyword-extraction/discussion/6650"
   ]
  },
  {
   "cell_type": "code",
   "execution_count": null,
   "metadata": {
    "collapsed": true,
    "deletable": true,
    "editable": true
   },
   "outputs": [],
   "source": []
  }
 ],
 "metadata": {
  "kernelspec": {
   "display_name": "Python 3",
   "language": "python",
   "name": "python3"
  },
  "language_info": {
   "codemirror_mode": {
    "name": "ipython",
    "version": 3
   },
   "file_extension": ".py",
   "mimetype": "text/x-python",
   "name": "python",
   "nbconvert_exporter": "python",
   "pygments_lexer": "ipython3",
   "version": "3.6.0"
  }
 },
 "nbformat": 4,
 "nbformat_minor": 2
}
