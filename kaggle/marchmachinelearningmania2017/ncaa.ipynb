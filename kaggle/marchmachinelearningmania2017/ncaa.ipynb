{
 "cells": [
  {
   "cell_type": "markdown",
   "metadata": {},
   "source": [
    "# March Machine Learning Mania 2017"
   ]
  },
  {
   "cell_type": "code",
   "execution_count": 2,
   "metadata": {
    "collapsed": true
   },
   "outputs": [],
   "source": [
    "import pandas as pd"
   ]
  },
  {
   "cell_type": "markdown",
   "metadata": {},
   "source": [
    "## References\n",
    "\n",
    "* https://www.kaggle.com/juampilorenzo/march-machine-learning-mania-2017/a-ml-approach-to-march-madness-0-45\n",
    "* https://github.com/schmit/MarchMadness2017/blob/master/stan%20model%20for%20ncaa%202017%20bracket.ipynb\n",
    "* https://www.kaggle.com/wacaxx/march-machine-learning-mania-2017/understanding-elo\n",
    "* https://www.kaggle.com/boyadzhi/march-machine-learning-mania-2017/cross-validation-on-any-year\n"
   ]
  }
 ],
 "metadata": {
  "kernelspec": {
   "display_name": "Python 3",
   "language": "python",
   "name": "python3"
  },
  "language_info": {
   "codemirror_mode": {
    "name": "ipython",
    "version": 3
   },
   "file_extension": ".py",
   "mimetype": "text/x-python",
   "name": "python",
   "nbconvert_exporter": "python",
   "pygments_lexer": "ipython3",
   "version": "3.6.0"
  }
 },
 "nbformat": 4,
 "nbformat_minor": 2
}
